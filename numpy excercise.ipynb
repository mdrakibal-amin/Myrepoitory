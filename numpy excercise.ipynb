{
 "cells": [
  {
   "cell_type": "markdown",
   "id": "7611ab58",
   "metadata": {},
   "source": [
    "# Numpy Excercise:"
   ]
  },
  {
   "cell_type": "code",
   "execution_count": 169,
   "id": "bc112a15",
   "metadata": {},
   "outputs": [],
   "source": [
    "import numpy as np"
   ]
  },
  {
   "cell_type": "code",
   "execution_count": 170,
   "id": "d039a46a",
   "metadata": {},
   "outputs": [
    {
     "name": "stdout",
     "output_type": "stream",
     "text": [
      "1.20.3\n",
      "blas_mkl_info:\n",
      "    libraries = ['mkl_rt']\n",
      "    library_dirs = ['E:/programs1/python datamining1\\\\Library\\\\lib']\n",
      "    define_macros = [('SCIPY_MKL_H', None), ('HAVE_CBLAS', None)]\n",
      "    include_dirs = ['E:/programs1/python datamining1\\\\Library\\\\include']\n",
      "blas_opt_info:\n",
      "    libraries = ['mkl_rt']\n",
      "    library_dirs = ['E:/programs1/python datamining1\\\\Library\\\\lib']\n",
      "    define_macros = [('SCIPY_MKL_H', None), ('HAVE_CBLAS', None)]\n",
      "    include_dirs = ['E:/programs1/python datamining1\\\\Library\\\\include']\n",
      "lapack_mkl_info:\n",
      "    libraries = ['mkl_rt']\n",
      "    library_dirs = ['E:/programs1/python datamining1\\\\Library\\\\lib']\n",
      "    define_macros = [('SCIPY_MKL_H', None), ('HAVE_CBLAS', None)]\n",
      "    include_dirs = ['E:/programs1/python datamining1\\\\Library\\\\include']\n",
      "lapack_opt_info:\n",
      "    libraries = ['mkl_rt']\n",
      "    library_dirs = ['E:/programs1/python datamining1\\\\Library\\\\lib']\n",
      "    define_macros = [('SCIPY_MKL_H', None), ('HAVE_CBLAS', None)]\n",
      "    include_dirs = ['E:/programs1/python datamining1\\\\Library\\\\include']\n"
     ]
    }
   ],
   "source": [
    "#Print the numpy version and the configuration \n",
    "print(np.__version__)\n",
    "np.show_config()"
   ]
  },
  {
   "cell_type": "code",
   "execution_count": 171,
   "id": "2913f05c",
   "metadata": {},
   "outputs": [
    {
     "name": "stdout",
     "output_type": "stream",
     "text": [
      "[0. 0. 0. 0. 0. 0. 0. 0. 0. 0. 0. 0. 0. 0. 0.]\n"
     ]
    }
   ],
   "source": [
    "#Create a null vector of size 15\n",
    "Z = np.zeros(15)\n",
    "print(Z)"
   ]
  },
  {
   "cell_type": "code",
   "execution_count": 172,
   "id": "252512d0",
   "metadata": {},
   "outputs": [
    {
     "name": "stdout",
     "output_type": "stream",
     "text": [
      "[0. 0. 0. 0. 0. 0. 0. 0. 0. 0. 0. 0. 0. 0. 0. 0. 0. 0. 0. 1. 0. 0. 0. 0.\n",
      " 0. 0. 0. 0. 0. 0.]\n"
     ]
    }
   ],
   "source": [
    "#Create a null vector of size 30 but the nineteen value which is 1 \n",
    "Z = np.zeros(30)\n",
    "Z[19] = 1\n",
    "print(Z)"
   ]
  },
  {
   "cell_type": "code",
   "execution_count": 173,
   "id": "301f57e5",
   "metadata": {},
   "outputs": [
    {
     "name": "stdout",
     "output_type": "stream",
     "text": [
      "[24 25 26 27 28 29 30 31 32 33 34 35 36 37 38 39 40 41 42 43 44 45 46 47\n",
      " 48 49 50 51 52 53 54 55 56 57 58 59 60 61 62 63 64 65 66 67 68 69 70 71\n",
      " 72 73 74 75 76]\n"
     ]
    }
   ],
   "source": [
    "#Create a vector with values ranging from 24 to 76\n",
    "Z = np.arange(24,77)\n",
    "print(Z)"
   ]
  },
  {
   "cell_type": "code",
   "execution_count": 174,
   "id": "621dc33c",
   "metadata": {},
   "outputs": [],
   "source": [
    "#7. Reverse a vector (first element becomes last)\n",
    "Z = np.arange(77)\n",
    "z = Z[::-1]"
   ]
  },
  {
   "cell_type": "code",
   "execution_count": 175,
   "id": "772dcbd7",
   "metadata": {},
   "outputs": [
    {
     "data": {
      "text/plain": [
       "array([76, 75, 74, 73, 72, 71, 70, 69, 68, 67, 66, 65, 64, 63, 62, 61, 60,\n",
       "       59, 58, 57, 56, 55, 54, 53, 52, 51, 50, 49, 48, 47, 46, 45, 44, 43,\n",
       "       42, 41, 40, 39, 38, 37, 36, 35, 34, 33, 32, 31, 30, 29, 28, 27, 26,\n",
       "       25, 24, 23, 22, 21, 20, 19, 18, 17, 16, 15, 14, 13, 12, 11, 10,  9,\n",
       "        8,  7,  6,  5,  4,  3,  2,  1,  0])"
      ]
     },
     "execution_count": 175,
     "metadata": {},
     "output_type": "execute_result"
    }
   ],
   "source": [
    "z"
   ]
  },
  {
   "cell_type": "code",
   "execution_count": 176,
   "id": "70413ee4",
   "metadata": {},
   "outputs": [
    {
     "name": "stdout",
     "output_type": "stream",
     "text": [
      "[[ 0  1  2  3]\n",
      " [ 4  5  6  7]\n",
      " [ 8  9 10 11]\n",
      " [12 13 14 15]]\n"
     ]
    }
   ],
   "source": [
    "# Create a 4x4 matrix with values ranging from 10 to 25\n",
    "Z = np.arange(16).reshape(4,4)\n",
    "print(Z)"
   ]
  },
  {
   "cell_type": "code",
   "execution_count": 177,
   "id": "98075262",
   "metadata": {},
   "outputs": [
    {
     "name": "stdout",
     "output_type": "stream",
     "text": [
      "(array([ 0,  1,  4,  6,  9, 10, 11], dtype=int64),)\n"
     ]
    }
   ],
   "source": [
    "#Find indices of non­zero elements from [1,2,0,0,5,0,6,0,0,2,8,4,0]\n",
    "nz = np.nonzero([1,2,0,0,5,0,6,0,0,2,8,4,0])\n",
    "print(nz)"
   ]
  },
  {
   "cell_type": "code",
   "execution_count": 178,
   "id": "2534ce82",
   "metadata": {},
   "outputs": [
    {
     "name": "stdout",
     "output_type": "stream",
     "text": [
      "[[1. 0. 0. 0. 0. 0. 0.]\n",
      " [0. 1. 0. 0. 0. 0. 0.]\n",
      " [0. 0. 1. 0. 0. 0. 0.]\n",
      " [0. 0. 0. 1. 0. 0. 0.]\n",
      " [0. 0. 0. 0. 1. 0. 0.]\n",
      " [0. 0. 0. 0. 0. 1. 0.]\n",
      " [0. 0. 0. 0. 0. 0. 1.]]\n"
     ]
    }
   ],
   "source": [
    "#Create a 7x7 identity matrix\n",
    "Z =np.eye(7)\n",
    "print(Z)"
   ]
  },
  {
   "cell_type": "code",
   "execution_count": 179,
   "id": "b0b32c1e",
   "metadata": {},
   "outputs": [
    {
     "name": "stdout",
     "output_type": "stream",
     "text": [
      "[[[0.48363598 0.61254371 0.34624266 0.96512671 0.82870958]\n",
      "  [0.0608595  0.96894796 0.09615466 0.7307277  0.50324127]\n",
      "  [0.81416884 0.06281598 0.60275588 0.83541887 0.66130695]\n",
      "  [0.82979568 0.76277417 0.14288286 0.26313772 0.92087896]\n",
      "  [0.02137434 0.78524946 0.69590325 0.88274277 0.60406055]]\n",
      "\n",
      " [[0.23616871 0.5493972  0.44641239 0.48622165 0.3684864 ]\n",
      "  [0.21057121 0.82925099 0.79172354 0.02671955 0.88831195]\n",
      "  [0.15021187 0.99445745 0.5440574  0.86322906 0.62659328]\n",
      "  [0.59710673 0.16544485 0.73583116 0.89599505 0.15528696]\n",
      "  [0.0028052  0.02657705 0.12094095 0.73645529 0.66639335]]\n",
      "\n",
      " [[0.76091567 0.8189314  0.17510336 0.89462423 0.22118535]\n",
      "  [0.39437745 0.36063842 0.07558409 0.22847875 0.01576482]\n",
      "  [0.27993298 0.55164717 0.56501331 0.28065746 0.04498455]\n",
      "  [0.216995   0.3814604  0.82144221 0.45902976 0.36183492]\n",
      "  [0.88066907 0.56286725 0.85904546 0.20933862 0.02345375]]\n",
      "\n",
      " [[0.24617497 0.62164035 0.19439077 0.82654966 0.47509589]\n",
      "  [0.23510801 0.96495012 0.49966079 0.19988513 0.70433435]\n",
      "  [0.44448926 0.70773424 0.078198   0.52007126 0.24788566]\n",
      "  [0.86450109 0.30235892 0.17958993 0.04771991 0.0301641 ]\n",
      "  [0.54633478 0.34943191 0.20152439 0.88468533 0.72952155]]\n",
      "\n",
      " [[0.28977118 0.19395054 0.14886077 0.70366277 0.04729477]\n",
      "  [0.62400454 0.76368193 0.43482543 0.32946408 0.25912478]\n",
      "  [0.75881905 0.19602967 0.92748374 0.66356662 0.03326068]\n",
      "  [0.35329303 0.19452906 0.70958436 0.1918654  0.69456297]\n",
      "  [0.65391465 0.37598065 0.46731632 0.07347186 0.07514446]]]\n"
     ]
    }
   ],
   "source": [
    "#Create a 5x5x5 array with random values\n",
    "Z = np.random.random((5,5,5))\n",
    "print(Z)"
   ]
  },
  {
   "cell_type": "code",
   "execution_count": 180,
   "id": "908dbe2f",
   "metadata": {},
   "outputs": [
    {
     "name": "stdout",
     "output_type": "stream",
     "text": [
      "0.004528468781489048 0.9845342735085428\n"
     ]
    }
   ],
   "source": [
    "#Create a 12x10 array with random values and find the minimum and maximum\n",
    "#values\n",
    "Z = np.random.random((12,10))\n",
    "Zmin,Zmax = Z.min(),Z.max()\n",
    "print(Zmin, Zmax)"
   ]
  },
  {
   "cell_type": "code",
   "execution_count": 181,
   "id": "639a1bc1",
   "metadata": {},
   "outputs": [
    {
     "name": "stdout",
     "output_type": "stream",
     "text": [
      "0.4620529405423978\n"
     ]
    }
   ],
   "source": [
    "#Create a random vector of size 42 and and find the mean value\n",
    "Z = np.random.random(42)\n",
    "m = Z.mean()\n",
    "print(m)"
   ]
  },
  {
   "cell_type": "code",
   "execution_count": 182,
   "id": "5fb3b9dc",
   "metadata": {},
   "outputs": [],
   "source": [
    "#Create a 2d array with 1 on the border and 0 inside (\n",
    "Z = np.ones((8,8))\n",
    "Z[1:-1,1:-1] = 0 "
   ]
  },
  {
   "cell_type": "code",
   "execution_count": 183,
   "id": "c8304fc6",
   "metadata": {},
   "outputs": [
    {
     "data": {
      "text/plain": [
       "array([[1., 1., 1., 1., 1., 1., 1., 1.],\n",
       "       [1., 0., 0., 0., 0., 0., 0., 1.],\n",
       "       [1., 0., 0., 0., 0., 0., 0., 1.],\n",
       "       [1., 0., 0., 0., 0., 0., 0., 1.],\n",
       "       [1., 0., 0., 0., 0., 0., 0., 1.],\n",
       "       [1., 0., 0., 0., 0., 0., 0., 1.],\n",
       "       [1., 0., 0., 0., 0., 0., 0., 1.],\n",
       "       [1., 1., 1., 1., 1., 1., 1., 1.]])"
      ]
     },
     "execution_count": 183,
     "metadata": {},
     "output_type": "execute_result"
    }
   ],
   "source": [
    "Z"
   ]
  },
  {
   "cell_type": "code",
   "execution_count": 184,
   "id": "74cad173",
   "metadata": {},
   "outputs": [
    {
     "data": {
      "text/plain": [
       "False"
      ]
     },
     "execution_count": 184,
     "metadata": {},
     "output_type": "execute_result"
    }
   ],
   "source": [
    "#What is the result of the following expression?\n",
    "0 * np.nan\n",
    "np.nan == np.nan\n",
    "np.inf > np.nan\n",
    "np.nan - np.nan\n",
    "0.3 == 3 * 0.1"
   ]
  },
  {
   "cell_type": "code",
   "execution_count": 185,
   "id": "2f209e38",
   "metadata": {},
   "outputs": [
    {
     "data": {
      "text/plain": [
       "nan"
      ]
     },
     "execution_count": 185,
     "metadata": {},
     "output_type": "execute_result"
    }
   ],
   "source": [
    "0 * np.nan"
   ]
  },
  {
   "cell_type": "code",
   "execution_count": 186,
   "id": "f75f49ad",
   "metadata": {},
   "outputs": [
    {
     "data": {
      "text/plain": [
       "False"
      ]
     },
     "execution_count": 186,
     "metadata": {},
     "output_type": "execute_result"
    }
   ],
   "source": [
    "np.nan == np.nan"
   ]
  },
  {
   "cell_type": "code",
   "execution_count": 187,
   "id": "c5ec5ee9",
   "metadata": {},
   "outputs": [
    {
     "data": {
      "text/plain": [
       "False"
      ]
     },
     "execution_count": 187,
     "metadata": {},
     "output_type": "execute_result"
    }
   ],
   "source": [
    "np.inf > np.nan"
   ]
  },
  {
   "cell_type": "code",
   "execution_count": 188,
   "id": "88bd75d7",
   "metadata": {},
   "outputs": [
    {
     "data": {
      "text/plain": [
       "nan"
      ]
     },
     "execution_count": 188,
     "metadata": {},
     "output_type": "execute_result"
    }
   ],
   "source": [
    "np.nan - np.nan"
   ]
  },
  {
   "cell_type": "code",
   "execution_count": 189,
   "id": "151ab29c",
   "metadata": {},
   "outputs": [
    {
     "data": {
      "text/plain": [
       "False"
      ]
     },
     "execution_count": 189,
     "metadata": {},
     "output_type": "execute_result"
    }
   ],
   "source": [
    "0.3 == 3 * 0.1"
   ]
  },
  {
   "cell_type": "code",
   "execution_count": 190,
   "id": "402e694d",
   "metadata": {},
   "outputs": [
    {
     "name": "stdout",
     "output_type": "stream",
     "text": [
      "[[0 0 0 0 0 0]\n",
      " [1 0 0 0 0 0]\n",
      " [0 2 0 0 0 0]\n",
      " [0 0 3 0 0 0]\n",
      " [0 0 0 4 0 0]\n",
      " [0 0 0 0 5 0]]\n"
     ]
    }
   ],
   "source": [
    "# Create a 6x6 matrix with values 1,2,3,4,5 just below the diagonal\n",
    "Z = np.diag(1+np.arange(5), k= -1)\n",
    "print(Z)"
   ]
  },
  {
   "cell_type": "code",
   "execution_count": 191,
   "id": "160f4048",
   "metadata": {},
   "outputs": [
    {
     "name": "stdout",
     "output_type": "stream",
     "text": [
      "[[0 0 0 0 0 0]\n",
      " [3 0 0 0 0 0]\n",
      " [0 4 0 0 0 0]\n",
      " [0 0 5 0 0 0]\n",
      " [0 0 0 6 0 0]\n",
      " [0 0 0 0 7 0]]\n"
     ]
    }
   ],
   "source": [
    "Z = np.diag(3+np.arange(5), k= -1)\n",
    "print(Z)"
   ]
  },
  {
   "cell_type": "code",
   "execution_count": 192,
   "id": "51bc45df",
   "metadata": {},
   "outputs": [
    {
     "name": "stdout",
     "output_type": "stream",
     "text": [
      "[[0 0 0 0 0 0 0]\n",
      " [0 0 0 0 0 0 0]\n",
      " [3 0 0 0 0 0 0]\n",
      " [0 4 0 0 0 0 0]\n",
      " [0 0 5 0 0 0 0]\n",
      " [0 0 0 6 0 0 0]\n",
      " [0 0 0 0 7 0 0]]\n"
     ]
    }
   ],
   "source": [
    "Z = np.diag(3+np.arange(5), k= -2)\n",
    "print(Z)"
   ]
  },
  {
   "cell_type": "code",
   "execution_count": 193,
   "id": "271a3eee",
   "metadata": {},
   "outputs": [
    {
     "name": "stdout",
     "output_type": "stream",
     "text": [
      "[[0 1 0 1 0 1 0 1 0 1]\n",
      " [1 0 1 0 1 0 1 0 1 0]\n",
      " [0 1 0 1 0 1 0 1 0 1]\n",
      " [1 0 1 0 1 0 1 0 1 0]\n",
      " [0 1 0 1 0 1 0 1 0 1]\n",
      " [1 0 1 0 1 0 1 0 1 0]\n",
      " [0 1 0 1 0 1 0 1 0 1]\n",
      " [1 0 1 0 1 0 1 0 1 0]\n",
      " [0 1 0 1 0 1 0 1 0 1]\n",
      " [1 0 1 0 1 0 1 0 1 0]]\n"
     ]
    }
   ],
   "source": [
    "#Create a 10x10 matrix and fill it with a checkerboard pattern\n",
    "Z = np.zeros((10,10), dtype= int)\n",
    "Z[1::2,::2]=1\n",
    "Z[::2,1::2]=1\n",
    "print(Z)"
   ]
  },
  {
   "cell_type": "code",
   "execution_count": 194,
   "id": "9150348f",
   "metadata": {},
   "outputs": [
    {
     "name": "stdout",
     "output_type": "stream",
     "text": [
      "(0, 4, 0, 2)\n"
     ]
    }
   ],
   "source": [
    "# Consider a (4,5,6,7) shape array, what is the index (w,x,y,z) of the 170th element?\n",
    "print(np.unravel_index(170,(4,5,6,7)))"
   ]
  },
  {
   "cell_type": "code",
   "execution_count": 195,
   "id": "761a9f50",
   "metadata": {},
   "outputs": [
    {
     "name": "stdout",
     "output_type": "stream",
     "text": [
      "[[0 1 0 1 0 1 0 1 0 1]\n",
      " [1 0 1 0 1 0 1 0 1 0]\n",
      " [0 1 0 1 0 1 0 1 0 1]\n",
      " [1 0 1 0 1 0 1 0 1 0]\n",
      " [0 1 0 1 0 1 0 1 0 1]\n",
      " [1 0 1 0 1 0 1 0 1 0]\n",
      " [0 1 0 1 0 1 0 1 0 1]\n",
      " [1 0 1 0 1 0 1 0 1 0]\n",
      " [0 1 0 1 0 1 0 1 0 1]\n",
      " [1 0 1 0 1 0 1 0 1 0]]\n"
     ]
    }
   ],
   "source": [
    "#Create a checkerboard 10x10 matrix using the tile function\n",
    "Z = np.tile(np.array([[0,1],[1,0]]),(5,5))\n",
    "print(Z)"
   ]
  },
  {
   "cell_type": "code",
   "execution_count": 196,
   "id": "0d93562f",
   "metadata": {},
   "outputs": [
    {
     "name": "stdout",
     "output_type": "stream",
     "text": [
      "[[0 1 0 1 0 1 0 1]\n",
      " [1 0 1 0 1 0 1 0]\n",
      " [0 1 0 1 0 1 0 1]\n",
      " [1 0 1 0 1 0 1 0]\n",
      " [0 1 0 1 0 1 0 1]\n",
      " [1 0 1 0 1 0 1 0]\n",
      " [0 1 0 1 0 1 0 1]\n",
      " [1 0 1 0 1 0 1 0]\n",
      " [0 1 0 1 0 1 0 1]\n",
      " [1 0 1 0 1 0 1 0]\n",
      " [0 1 0 1 0 1 0 1]\n",
      " [1 0 1 0 1 0 1 0]]\n"
     ]
    }
   ],
   "source": [
    "Z = np.tile(np.array([[0,1],[1,0]]),(6,4))\n",
    "print(Z)"
   ]
  },
  {
   "cell_type": "code",
   "execution_count": 197,
   "id": "dc0152e0",
   "metadata": {},
   "outputs": [
    {
     "name": "stdout",
     "output_type": "stream",
     "text": [
      "[[0 1 0 1 0 1 0 1 0 1 0 1]\n",
      " [1 0 1 0 1 0 1 0 1 0 1 0]\n",
      " [0 1 0 1 0 1 0 1 0 1 0 1]\n",
      " [1 0 1 0 1 0 1 0 1 0 1 0]\n",
      " [0 1 0 1 0 1 0 1 0 1 0 1]\n",
      " [1 0 1 0 1 0 1 0 1 0 1 0]\n",
      " [0 1 0 1 0 1 0 1 0 1 0 1]\n",
      " [1 0 1 0 1 0 1 0 1 0 1 0]\n",
      " [0 1 0 1 0 1 0 1 0 1 0 1]\n",
      " [1 0 1 0 1 0 1 0 1 0 1 0]]\n"
     ]
    }
   ],
   "source": [
    "Z = np.tile(np.array([[0,1],[1,0]]),(5,6))\n",
    "print(Z)"
   ]
  },
  {
   "cell_type": "code",
   "execution_count": 198,
   "id": "c7c8571b",
   "metadata": {},
   "outputs": [
    {
     "name": "stdout",
     "output_type": "stream",
     "text": [
      "[[0.07077935 0.09333652 0.46220305 0.33271287 0.54179019 0.68428226\n",
      "  0.8519833 ]\n",
      " [0.15946373 1.         0.2483688  0.89025977 0.57861179 0.81722633\n",
      "  0.28537446]\n",
      " [0.55458742 0.95083718 0.32140401 0.23109641 0.29677641 0.17478929\n",
      "  0.74060839]\n",
      " [0.10430315 0.31030024 0.85334288 0.86035753 0.40996844 0.74518182\n",
      "  0.93269867]\n",
      " [0.         0.6889664  0.90733495 0.94753903 0.30900489 0.25558375\n",
      "  0.70836716]\n",
      " [0.43993786 0.72500148 0.20227245 0.47591492 0.32151674 0.96023634\n",
      "  0.13161898]\n",
      " [0.01324223 0.54359637 0.16016323 0.11964438 0.0439205  0.49433874\n",
      "  0.55307225]]\n"
     ]
    }
   ],
   "source": [
    "# Normalize a 7x7 random matrix \n",
    "Z =  np.random.random((7,7))\n",
    "Zmax, Zmin = Z.max(), Z.min()\n",
    "Z = (Z-Zmin)/(Zmax-Zmin)\n",
    "print(Z)"
   ]
  },
  {
   "cell_type": "code",
   "execution_count": 199,
   "id": "3c923704",
   "metadata": {},
   "outputs": [
    {
     "name": "stderr",
     "output_type": "stream",
     "text": [
      "C:\\Users\\Rakib\\AppData\\Local\\Temp/ipykernel_5632/696051920.py:2: FutureWarning: Passing (type, 1) or '1type' as a synonym of type is deprecated; in a future version of numpy, it will be understood as (type, (1,)) / '(1,)type'.\n",
      "  color = np.dtype([(\"r\", np.ubyte, 1),\n"
     ]
    }
   ],
   "source": [
    "#Create a custom dtype that describes a color as four unisgned bytes (RGBA)\n",
    "color = np.dtype([(\"r\", np.ubyte, 1),\n",
    "                 (\"g\", np.ubyte,  1),\n",
    "                 (\"b\", np.ubyte,  1),\n",
    "                 (\"a\", np.ubyte,  1)])\n",
    "  "
   ]
  },
  {
   "cell_type": "code",
   "execution_count": 200,
   "id": "81724418",
   "metadata": {},
   "outputs": [
    {
     "data": {
      "text/plain": [
       "dtype([('r', 'u1'), ('g', 'u1'), ('b', 'u1'), ('a', 'u1')])"
      ]
     },
     "execution_count": 200,
     "metadata": {},
     "output_type": "execute_result"
    }
   ],
   "source": [
    "color"
   ]
  },
  {
   "cell_type": "code",
   "execution_count": 201,
   "id": "a06420a2",
   "metadata": {},
   "outputs": [
    {
     "name": "stdout",
     "output_type": "stream",
     "text": [
      "[[4. 4.]\n",
      " [4. 4.]\n",
      " [4. 4.]\n",
      " [4. 4.]\n",
      " [4. 4.]\n",
      " [4. 4.]]\n"
     ]
    }
   ],
   "source": [
    "#. Multiply a 6x4 matrix by a 4x2 matrix (real matrix product)\n",
    "Z = np.dot(np.ones((6,4)), np.ones((4,2)))\n",
    "print(Z)"
   ]
  },
  {
   "cell_type": "code",
   "execution_count": 202,
   "id": "ee9dea11",
   "metadata": {},
   "outputs": [],
   "source": [
    "#Given a 1D array, negate all elements which are between 5 and 9, in place.\n",
    "Z = np.arange(14)\n",
    "Z[(5<Z) & (Z<=9)] *=-1"
   ]
  },
  {
   "cell_type": "code",
   "execution_count": 203,
   "id": "217e9041",
   "metadata": {},
   "outputs": [
    {
     "data": {
      "text/plain": [
       "array([ 0,  1,  2,  3,  4,  5, -6, -7, -8, -9, 10, 11, 12, 13])"
      ]
     },
     "execution_count": 203,
     "metadata": {},
     "output_type": "execute_result"
    }
   ],
   "source": [
    "Z"
   ]
  },
  {
   "cell_type": "code",
   "execution_count": 204,
   "id": "ecd7c71d",
   "metadata": {},
   "outputs": [
    {
     "ename": "TypeError",
     "evalue": "'numpy.ndarray' object is not callable",
     "output_type": "error",
     "traceback": [
      "\u001b[1;31m---------------------------------------------------------------------------\u001b[0m",
      "\u001b[1;31mTypeError\u001b[0m                                 Traceback (most recent call last)",
      "\u001b[1;32m~\\AppData\\Local\\Temp/ipykernel_5632/145581554.py\u001b[0m in \u001b[0;36m<module>\u001b[1;34m\u001b[0m\n\u001b[0;32m      1\u001b[0m \u001b[1;31m#What is the output of the following script?\u001b[0m\u001b[1;33m\u001b[0m\u001b[1;33m\u001b[0m\u001b[0m\n\u001b[1;32m----> 2\u001b[1;33m \u001b[0mprint\u001b[0m\u001b[1;33m(\u001b[0m\u001b[0msum\u001b[0m\u001b[1;33m(\u001b[0m\u001b[0mrange\u001b[0m\u001b[1;33m(\u001b[0m\u001b[1;36m5\u001b[0m\u001b[1;33m)\u001b[0m\u001b[1;33m,\u001b[0m\u001b[1;33m-\u001b[0m\u001b[1;36m1\u001b[0m\u001b[1;33m)\u001b[0m\u001b[1;33m)\u001b[0m\u001b[1;33m\u001b[0m\u001b[1;33m\u001b[0m\u001b[0m\n\u001b[0m\u001b[0;32m      3\u001b[0m \u001b[1;32mfrom\u001b[0m \u001b[0mnumpy\u001b[0m \u001b[1;32mimport\u001b[0m \u001b[1;33m*\u001b[0m\u001b[1;33m\u001b[0m\u001b[1;33m\u001b[0m\u001b[0m\n\u001b[0;32m      4\u001b[0m \u001b[0mprint\u001b[0m\u001b[1;33m(\u001b[0m\u001b[0msum\u001b[0m\u001b[1;33m(\u001b[0m\u001b[0mrange\u001b[0m\u001b[1;33m(\u001b[0m\u001b[1;36m5\u001b[0m\u001b[1;33m)\u001b[0m\u001b[1;33m,\u001b[0m\u001b[1;33m-\u001b[0m\u001b[1;36m1\u001b[0m\u001b[1;33m)\u001b[0m\u001b[1;33m)\u001b[0m\u001b[1;33m\u001b[0m\u001b[1;33m\u001b[0m\u001b[0m\n",
      "\u001b[1;31mTypeError\u001b[0m: 'numpy.ndarray' object is not callable"
     ]
    }
   ],
   "source": [
    "#What is the output of the following script?\n",
    "print(sum(range(5),-1))\n",
    "from numpy import *\n",
    "print(sum(range(5),-1))"
   ]
  },
  {
   "cell_type": "code",
   "execution_count": 206,
   "id": "6aec02a2",
   "metadata": {},
   "outputs": [
    {
     "data": {
      "text/plain": [
       "array([   0,    1,    2,    4,    8,   16,    0,    0,    0,    0,  512,\n",
       "       1024, 2048, 4096], dtype=int32)"
      ]
     },
     "execution_count": 206,
     "metadata": {},
     "output_type": "execute_result"
    }
   ],
   "source": [
    "2 << Z >> 2\n"
   ]
  },
  {
   "cell_type": "code",
   "execution_count": 207,
   "id": "ffe143b9",
   "metadata": {},
   "outputs": [
    {
     "data": {
      "text/plain": [
       "array([False, False, False, False, False, False,  True,  True,  True,\n",
       "        True, False, False, False, False])"
      ]
     },
     "execution_count": 207,
     "metadata": {},
     "output_type": "execute_result"
    }
   ],
   "source": [
    "Z <- Z"
   ]
  },
  {
   "cell_type": "code",
   "execution_count": 208,
   "id": "163dee79",
   "metadata": {},
   "outputs": [
    {
     "data": {
      "text/plain": [
       "array([ 0. +0.j,  0. +1.j,  0. +2.j,  0. +3.j,  0. +4.j,  0. +5.j,\n",
       "       -0. -6.j, -0. -7.j, -0. -8.j, -0. -9.j,  0.+10.j,  0.+11.j,\n",
       "        0.+12.j,  0.+13.j])"
      ]
     },
     "execution_count": 208,
     "metadata": {},
     "output_type": "execute_result"
    }
   ],
   "source": [
    "1j*Z"
   ]
  },
  {
   "cell_type": "code",
   "execution_count": 209,
   "id": "ad52fae2",
   "metadata": {},
   "outputs": [
    {
     "data": {
      "text/plain": [
       "array([ 0.,  1.,  2.,  3.,  4.,  5., -6., -7., -8., -9., 10., 11., 12.,\n",
       "       13.])"
      ]
     },
     "execution_count": 209,
     "metadata": {},
     "output_type": "execute_result"
    }
   ],
   "source": [
    "Z/1/1"
   ]
  },
  {
   "cell_type": "code",
   "execution_count": 210,
   "id": "5981b4cc",
   "metadata": {},
   "outputs": [
    {
     "ename": "ValueError",
     "evalue": "The truth value of an array with more than one element is ambiguous. Use a.any() or a.all()",
     "output_type": "error",
     "traceback": [
      "\u001b[1;31m---------------------------------------------------------------------------\u001b[0m",
      "\u001b[1;31mValueError\u001b[0m                                Traceback (most recent call last)",
      "\u001b[1;32m~\\AppData\\Local\\Temp/ipykernel_5632/225404581.py\u001b[0m in \u001b[0;36m<module>\u001b[1;34m\u001b[0m\n\u001b[1;32m----> 1\u001b[1;33m \u001b[0mZ\u001b[0m\u001b[1;33m<\u001b[0m\u001b[0mZ\u001b[0m\u001b[1;33m>\u001b[0m\u001b[0mZ\u001b[0m\u001b[1;33m\u001b[0m\u001b[1;33m\u001b[0m\u001b[0m\n\u001b[0m",
      "\u001b[1;31mValueError\u001b[0m: The truth value of an array with more than one element is ambiguous. Use a.any() or a.all()"
     ]
    }
   ],
   "source": [
    "Z<Z>Z"
   ]
  },
  {
   "cell_type": "code",
   "execution_count": 211,
   "id": "2f344c66",
   "metadata": {},
   "outputs": [
    {
     "name": "stderr",
     "output_type": "stream",
     "text": [
      "C:\\Users\\Rakib\\AppData\\Local\\Temp/ipykernel_5632/3375619940.py:2: RuntimeWarning: divide by zero encountered in floor_divide\n",
      "  np.array(0) // np.array(0)\n",
      "C:\\Users\\Rakib\\AppData\\Local\\Temp/ipykernel_5632/3375619940.py:3: RuntimeWarning: invalid value encountered in floor_divide\n",
      "  np.array(0) // np.array(0.)\n",
      "C:\\Users\\Rakib\\AppData\\Local\\Temp/ipykernel_5632/3375619940.py:4: RuntimeWarning: invalid value encountered in true_divide\n",
      "  np.array(0) / np.array(0)\n",
      "C:\\Users\\Rakib\\AppData\\Local\\Temp/ipykernel_5632/3375619940.py:5: RuntimeWarning: invalid value encountered in true_divide\n",
      "  np.array(0) / np.array(0.)\n"
     ]
    },
    {
     "data": {
      "text/plain": [
       "nan"
      ]
     },
     "execution_count": 211,
     "metadata": {},
     "output_type": "execute_result"
    }
   ],
   "source": [
    "#What are the result of the following expressions?\n",
    "np.array(0) // np.array(0)\n",
    "np.array(0) // np.array(0.)\n",
    "np.array(0) / np.array(0)\n",
    "np.array(0) / np.array(0.)"
   ]
  },
  {
   "cell_type": "code",
   "execution_count": 212,
   "id": "8f21e623",
   "metadata": {},
   "outputs": [
    {
     "name": "stderr",
     "output_type": "stream",
     "text": [
      "C:\\Users\\Rakib\\AppData\\Local\\Temp/ipykernel_5632/2018018105.py:1: RuntimeWarning: divide by zero encountered in floor_divide\n",
      "  np.array(0) // np.array(0)\n"
     ]
    },
    {
     "data": {
      "text/plain": [
       "0"
      ]
     },
     "execution_count": 212,
     "metadata": {},
     "output_type": "execute_result"
    }
   ],
   "source": [
    "np.array(0) // np.array(0)"
   ]
  },
  {
   "cell_type": "code",
   "execution_count": 213,
   "id": "1419fa9f",
   "metadata": {},
   "outputs": [
    {
     "name": "stdout",
     "output_type": "stream",
     "text": [
      "[ -9.  -3.  19.  -8.  12. -12.   6. -12.  -6.  -3.   9.  -5.   9.   8.\n",
      " -14.  20.   6. -10.  11. -16.]\n"
     ]
    }
   ],
   "source": [
    "#How to round away from zero a float array ? \n",
    "Z = np.random.uniform(-20,+20,20)\n",
    "print(np.trunc(Z + np.copysign(0.5,Z)))"
   ]
  },
  {
   "cell_type": "code",
   "execution_count": 214,
   "id": "3c8d42c3",
   "metadata": {},
   "outputs": [
    {
     "name": "stdout",
     "output_type": "stream",
     "text": [
      "[14.  8.  7. 10. 12. 13. 10. 14.  5. 12.  5.  8.  7.  1.  5.]\n"
     ]
    }
   ],
   "source": [
    "#Extract the integer part of a random array using 5 different methods \n",
    "Z = np.random.uniform(0,15,15)\n",
    "print(Z -Z%1)"
   ]
  },
  {
   "cell_type": "code",
   "execution_count": 215,
   "id": "fb20ce69",
   "metadata": {},
   "outputs": [
    {
     "name": "stdout",
     "output_type": "stream",
     "text": [
      "[14.  8.  7. 10. 12. 13. 10. 14.  5. 12.  5.  8.  7.  1.  5.]\n"
     ]
    }
   ],
   "source": [
    "print(np.floor(Z))"
   ]
  },
  {
   "cell_type": "code",
   "execution_count": 216,
   "id": "2343035d",
   "metadata": {},
   "outputs": [
    {
     "name": "stdout",
     "output_type": "stream",
     "text": [
      "[14.  8.  7. 10. 12. 13. 10. 14.  5. 12.  5.  8.  7.  1.  5.]\n"
     ]
    }
   ],
   "source": [
    "print(np.ceil(Z)-1)"
   ]
  },
  {
   "cell_type": "code",
   "execution_count": 217,
   "id": "13e4d49e",
   "metadata": {},
   "outputs": [
    {
     "name": "stdout",
     "output_type": "stream",
     "text": [
      "[14  8  7 10 12 13 10 14  5 12  5  8  7  1  5]\n"
     ]
    }
   ],
   "source": [
    "print(Z.astype(int))"
   ]
  },
  {
   "cell_type": "code",
   "execution_count": 218,
   "id": "cefe1ea3",
   "metadata": {},
   "outputs": [
    {
     "name": "stdout",
     "output_type": "stream",
     "text": [
      "[14.  8.  7. 10. 12. 13. 10. 14.  5. 12.  5.  8.  7.  1.  5.]\n"
     ]
    }
   ],
   "source": [
    "print(np.trunc(Z))"
   ]
  },
  {
   "cell_type": "code",
   "execution_count": 219,
   "id": "550c52b6",
   "metadata": {},
   "outputs": [
    {
     "name": "stdout",
     "output_type": "stream",
     "text": [
      "[[0. 1. 2. 3. 4. 5. 6. 7.]\n",
      " [0. 1. 2. 3. 4. 5. 6. 7.]\n",
      " [0. 1. 2. 3. 4. 5. 6. 7.]\n",
      " [0. 1. 2. 3. 4. 5. 6. 7.]\n",
      " [0. 1. 2. 3. 4. 5. 6. 7.]\n",
      " [0. 1. 2. 3. 4. 5. 6. 7.]\n",
      " [0. 1. 2. 3. 4. 5. 6. 7.]\n",
      " [0. 1. 2. 3. 4. 5. 6. 7.]]\n"
     ]
    }
   ],
   "source": [
    "#. Create a 8x8 matrix with row values ranging from 0 to 7\n",
    "Z = np.zeros((8,8))\n",
    "Z += np.arange(8)\n",
    "print(Z)"
   ]
  },
  {
   "cell_type": "code",
   "execution_count": 220,
   "id": "bb1174f7",
   "metadata": {},
   "outputs": [
    {
     "name": "stdout",
     "output_type": "stream",
     "text": [
      "[ 0.  1.  2.  3.  4.  5.  6.  7.  8.  9. 10. 11. 12. 13. 14. 15. 16. 17.\n",
      " 18. 19.]\n"
     ]
    }
   ],
   "source": [
    "#. Consider a generator function that generates 20 integers and use it to build an\n",
    "#array\n",
    "def generate():\n",
    "    for x in range(20):\n",
    "        yield x\n",
    "Z = np.fromiter(generate(),dtype=float,count=-1)\n",
    "print(Z)"
   ]
  },
  {
   "cell_type": "code",
   "execution_count": 221,
   "id": "ba1cfd20",
   "metadata": {},
   "outputs": [
    {
     "name": "stdout",
     "output_type": "stream",
     "text": [
      "[ 0  1  2  3  4  5  6  7  8  9 10 11 12 13 14 15 16 17 18 19]\n"
     ]
    }
   ],
   "source": [
    "def generate():\n",
    "    for x in range(20):\n",
    "        yield x\n",
    "Z = np.fromiter(generate(),dtype=int,count=-1)\n",
    "print(Z)"
   ]
  },
  {
   "cell_type": "code",
   "execution_count": 222,
   "id": "b79d85c8",
   "metadata": {},
   "outputs": [
    {
     "name": "stdout",
     "output_type": "stream",
     "text": [
      "[0.09090909 0.18181818 0.27272727 0.36363636 0.45454545 0.54545455\n",
      " 0.63636364 0.72727273 0.81818182 0.90909091]\n"
     ]
    }
   ],
   "source": [
    "#Create a vector of size 10 with values ranging from 0 to 1, both excluded \n",
    "Z = np.linspace(0,1,12,endpoint=True)[1:-1]\n",
    "print(Z)"
   ]
  },
  {
   "cell_type": "code",
   "execution_count": 223,
   "id": "96a1bad3",
   "metadata": {},
   "outputs": [
    {
     "name": "stdout",
     "output_type": "stream",
     "text": [
      "[0.04761905 0.0952381  0.14285714 0.19047619 0.23809524 0.28571429\n",
      " 0.33333333 0.38095238 0.42857143 0.47619048 0.52380952 0.57142857\n",
      " 0.61904762 0.66666667 0.71428571 0.76190476 0.80952381 0.85714286\n",
      " 0.9047619  0.95238095]\n"
     ]
    }
   ],
   "source": [
    "Z = np.linspace(0,1,22,endpoint=True)[1:-1]    #size 20\n",
    "print(Z)"
   ]
  },
  {
   "cell_type": "code",
   "execution_count": 224,
   "id": "11d7bfa5",
   "metadata": {},
   "outputs": [
    {
     "name": "stdout",
     "output_type": "stream",
     "text": [
      "[0.11111111 0.22222222 0.33333333 0.44444444 0.55555556 0.66666667\n",
      " 0.77777778 0.88888889]\n"
     ]
    }
   ],
   "source": [
    "Z = np.linspace(0,1,10,endpoint=True)[1:-1]#size 8\n",
    "print(Z)"
   ]
  },
  {
   "cell_type": "code",
   "execution_count": 225,
   "id": "6fae1eb0",
   "metadata": {},
   "outputs": [
    {
     "name": "stdout",
     "output_type": "stream",
     "text": [
      "[0.02116318 0.02516788 0.13004663 0.16773114 0.18996445 0.19661984\n",
      " 0.31880289 0.39408705 0.39899334 0.4225463  0.65185293 0.71074933\n",
      " 0.71808089 0.72843709 0.85659455]\n"
     ]
    }
   ],
   "source": [
    "#Create a random vector of size 15 and sort it\n",
    "Z = np.random.random(15)\n",
    "Z.sort()\n",
    "print(Z)"
   ]
  },
  {
   "cell_type": "code",
   "execution_count": 226,
   "id": "a38cd332",
   "metadata": {},
   "outputs": [
    {
     "data": {
      "text/plain": [
       "190"
      ]
     },
     "execution_count": 226,
     "metadata": {},
     "output_type": "execute_result"
    }
   ],
   "source": [
    "#How to sum a small array faster than np.sum?\n",
    "Z = np.arange(20)\n",
    "np.add.reduce(Z)"
   ]
  },
  {
   "cell_type": "code",
   "execution_count": 227,
   "id": "3cabb006",
   "metadata": {},
   "outputs": [],
   "source": [
    "#Consider two random array A anb B, check if they are equal\n"
   ]
  },
  {
   "cell_type": "code",
   "execution_count": 228,
   "id": "c35245f3",
   "metadata": {},
   "outputs": [
    {
     "name": "stdout",
     "output_type": "stream",
     "text": [
      "False\n"
     ]
    }
   ],
   "source": [
    "A = np.random.randint(2,4,8)\n",
    "B = np.random.randint(2,4,8)\n",
    "equal = np.allclose(A,B)\n",
    "print(equal)"
   ]
  },
  {
   "cell_type": "code",
   "execution_count": 229,
   "id": "c6cf27cc",
   "metadata": {},
   "outputs": [
    {
     "name": "stdout",
     "output_type": "stream",
     "text": [
      "True\n"
     ]
    }
   ],
   "source": [
    "A = np.random.randint(4,5,6)\n",
    "B = np.random.randint(4,5,6)\n",
    "equal = np.allclose(A,B)\n",
    "print(equal)"
   ]
  },
  {
   "cell_type": "code",
   "execution_count": 230,
   "id": "3775aa4b",
   "metadata": {},
   "outputs": [
    {
     "name": "stdout",
     "output_type": "stream",
     "text": [
      "False\n"
     ]
    }
   ],
   "source": [
    "A = np.random.randint(1,2,8)\n",
    "B = np.random.randint(2,4,8)\n",
    "equal = np.allclose(A,B)\n",
    "print(equal)"
   ]
  },
  {
   "cell_type": "code",
   "execution_count": 231,
   "id": "4b52debb",
   "metadata": {},
   "outputs": [],
   "source": [
    "# Make an array immutable (read­only)\n",
    "Z = np.zeros(25)\n",
    "Z.flags.writeable = False\n",
    "z[0] = 1"
   ]
  },
  {
   "cell_type": "code",
   "execution_count": 232,
   "id": "42d46e8d",
   "metadata": {},
   "outputs": [
    {
     "name": "stdout",
     "output_type": "stream",
     "text": [
      "[1.08819815 1.09908315 0.72764512 0.6240751  1.19825037 0.8090215\n",
      " 0.82228144 0.55287784 0.85727014 0.50945139]\n",
      "[0.59326997 0.48648585 0.38075703 0.77663811 0.82778437 0.24054672\n",
      " 0.02761445 0.81154201 0.49975772 0.61126264]\n"
     ]
    }
   ],
   "source": [
    "#Consider a random 10x2 matrix representing cartesian coordinates, convert them\n",
    "#to polar coordinates\n",
    "Z = np.random.random((10,2))\n",
    "X,Y = Z[:,0], Z[:,1]\n",
    "R = np.sqrt(X**2 + Y**2)\n",
    "T = np.arctan2(Y,X)\n",
    "print(R)\n",
    "print(T)"
   ]
  },
  {
   "cell_type": "code",
   "execution_count": 233,
   "id": "2b190a36",
   "metadata": {},
   "outputs": [
    {
     "name": "stdout",
     "output_type": "stream",
     "text": [
      "[1.16123575 0.96812486 1.13181539 0.60251097 0.7146606  1.03149492\n",
      " 0.81476475 0.90543615]\n",
      "[0.99548141 0.89722679 0.83898331 0.89880079 0.81202745 0.97873235\n",
      " 1.27902267 1.37090232]\n"
     ]
    }
   ],
   "source": [
    "Z = np.random.random((8,2))#8x2 matrix\n",
    "X,Y = Z[:,0], Z[:,1]\n",
    "R = np.sqrt(X**2 + Y**2)\n",
    "T = np.arctan2(Y,X)\n",
    "print(R)\n",
    "print(T)"
   ]
  },
  {
   "cell_type": "code",
   "execution_count": 234,
   "id": "f3fe20af",
   "metadata": {},
   "outputs": [
    {
     "name": "stdout",
     "output_type": "stream",
     "text": [
      "[0.39086153 0.60332571 0.20190268 0.29153501 0.58664997 0.13970058\n",
      " 0.04849527 0.7264139  0.44332723 0.27939635 0.27311811 0.44679655\n",
      " 0.43874373 0.1070746  0.         0.40249765 0.4109487  0.88576324\n",
      " 0.81589918 0.82575288]\n"
     ]
    }
   ],
   "source": [
    "#Create random vector of size 20 and replace the maximum value by 0\n",
    "Z = np.random.random(20)\n",
    "Z[Z.argmax()] = 0\n",
    "print(Z)"
   ]
  },
  {
   "cell_type": "code",
   "execution_count": 235,
   "id": "2aa874d1",
   "metadata": {},
   "outputs": [
    {
     "name": "stdout",
     "output_type": "stream",
     "text": [
      "[[(0.  , 0.  ) (0.25, 0.  ) (0.5 , 0.  ) (0.75, 0.  ) (1.  , 0.  )]\n",
      " [(0.  , 0.25) (0.25, 0.25) (0.5 , 0.25) (0.75, 0.25) (1.  , 0.25)]\n",
      " [(0.  , 0.5 ) (0.25, 0.5 ) (0.5 , 0.5 ) (0.75, 0.5 ) (1.  , 0.5 )]\n",
      " [(0.  , 0.75) (0.25, 0.75) (0.5 , 0.75) (0.75, 0.75) (1.  , 0.75)]\n",
      " [(0.  , 1.  ) (0.25, 1.  ) (0.5 , 1.  ) (0.75, 1.  ) (1.  , 1.  )]]\n"
     ]
    }
   ],
   "source": [
    "#Create a structured array with xand ycoordinates covering the [0,1]x[0,1] area\n",
    "Z = np.zeros((5,5),[('x',float),('y',float)])\n",
    "Z['x'],Z['y'] = np.meshgrid(np.linspace(0,1,5),np.linspace(0,1,5))\n",
    "print(Z)"
   ]
  },
  {
   "cell_type": "code",
   "execution_count": 236,
   "id": "6e64b069",
   "metadata": {},
   "outputs": [
    {
     "name": "stdout",
     "output_type": "stream",
     "text": [
      "[[(0.        , 0.        ) (0.16666667, 0.        )\n",
      "  (0.33333333, 0.        ) (0.5       , 0.        )\n",
      "  (0.66666667, 0.        ) (0.83333333, 0.        )\n",
      "  (1.        , 0.        )]\n",
      " [(0.        , 0.16666667) (0.16666667, 0.16666667)\n",
      "  (0.33333333, 0.16666667) (0.5       , 0.16666667)\n",
      "  (0.66666667, 0.16666667) (0.83333333, 0.16666667)\n",
      "  (1.        , 0.16666667)]\n",
      " [(0.        , 0.33333333) (0.16666667, 0.33333333)\n",
      "  (0.33333333, 0.33333333) (0.5       , 0.33333333)\n",
      "  (0.66666667, 0.33333333) (0.83333333, 0.33333333)\n",
      "  (1.        , 0.33333333)]\n",
      " [(0.        , 0.5       ) (0.16666667, 0.5       )\n",
      "  (0.33333333, 0.5       ) (0.5       , 0.5       )\n",
      "  (0.66666667, 0.5       ) (0.83333333, 0.5       )\n",
      "  (1.        , 0.5       )]\n",
      " [(0.        , 0.66666667) (0.16666667, 0.66666667)\n",
      "  (0.33333333, 0.66666667) (0.5       , 0.66666667)\n",
      "  (0.66666667, 0.66666667) (0.83333333, 0.66666667)\n",
      "  (1.        , 0.66666667)]\n",
      " [(0.        , 0.83333333) (0.16666667, 0.83333333)\n",
      "  (0.33333333, 0.83333333) (0.5       , 0.83333333)\n",
      "  (0.66666667, 0.83333333) (0.83333333, 0.83333333)\n",
      "  (1.        , 0.83333333)]\n",
      " [(0.        , 1.        ) (0.16666667, 1.        )\n",
      "  (0.33333333, 1.        ) (0.5       , 1.        )\n",
      "  (0.66666667, 1.        ) (0.83333333, 1.        )\n",
      "  (1.        , 1.        )]]\n"
     ]
    }
   ],
   "source": [
    "Z = np.zeros((7,7),[('x',float),('y',float)])\n",
    "Z['x'],Z['y'] = np.meshgrid(np.linspace(0,1,7),np.linspace(0,1,7))\n",
    "print(Z)"
   ]
  },
  {
   "cell_type": "code",
   "execution_count": 237,
   "id": "86c49903",
   "metadata": {},
   "outputs": [
    {
     "name": "stdout",
     "output_type": "stream",
     "text": [
      "33961.93294480225\n"
     ]
    }
   ],
   "source": [
    "#Given two arrays, X and Y, construct the Cauchy matrix C (Cij = 1/(xi ­ yj))\n",
    "X = np.arange(10)\n",
    "Y =  X + 0.5\n",
    "C = 1.0 / np.subtract.outer(X,Y)\n",
    "print(np.linalg.det(C))"
   ]
  },
  {
   "cell_type": "code",
   "execution_count": 238,
   "id": "65364783",
   "metadata": {},
   "outputs": [
    {
     "name": "stdout",
     "output_type": "stream",
     "text": [
      "[[-1.25       -0.55555556 -0.35714286 -0.26315789]\n",
      " [ 5.         -1.25       -0.55555556 -0.35714286]\n",
      " [ 0.83333333  5.         -1.25       -0.55555556]\n",
      " [ 0.45454545  0.83333333  5.         -1.25      ]]\n"
     ]
    }
   ],
   "source": [
    "X = np.arange(4)\n",
    "Y =  X + 0.8\n",
    "C = 1.0 / np.subtract.outer(X,Y)\n",
    "print(C)"
   ]
  },
  {
   "cell_type": "code",
   "execution_count": 239,
   "id": "02aa2f15",
   "metadata": {},
   "outputs": [
    {
     "name": "stdout",
     "output_type": "stream",
     "text": [
      "79.83810305437386\n"
     ]
    }
   ],
   "source": [
    "X = np.arange(4)\n",
    "Y =  X + 0.8\n",
    "C = 1.0 / np.subtract.outer(X,Y)\n",
    "print(np.linalg.det(C))"
   ]
  },
  {
   "cell_type": "code",
   "execution_count": 240,
   "id": "575d912b",
   "metadata": {},
   "outputs": [
    {
     "name": "stdout",
     "output_type": "stream",
     "text": [
      "-128\n",
      "127\n",
      "-2147483648\n",
      "2147483647\n",
      "-9223372036854775808\n",
      "9223372036854775807\n",
      "-3.4028235e+38\n",
      "3.4028235e+38\n",
      "1.1920929e-07\n",
      "-1.7976931348623157e+308\n",
      "1.7976931348623157e+308\n",
      "2.220446049250313e-16\n"
     ]
    }
   ],
   "source": [
    "#Print the minimum and maximum representable value for each numpy scalar type\n",
    "for dtype in[np.int8, np.int32, np.int64]:\n",
    "    print(np.iinfo(dtype).min)\n",
    "    print(np.iinfo(dtype).max)\n",
    "for dtype in[np.float32,np.float64]:\n",
    "    print(np.finfo(dtype).min)\n",
    "    print(np.finfo(dtype).max)\n",
    "    print(np.finfo(dtype).eps)"
   ]
  },
  {
   "cell_type": "code",
   "execution_count": 241,
   "id": "d55a0d94",
   "metadata": {},
   "outputs": [],
   "source": [
    "#. How to print all the values of an array?\n",
    "#np.set_printoptions(threshold=np.nan)\n",
    "#Z = np.zeros((7,7))\n",
    "#print(Z)"
   ]
  },
  {
   "cell_type": "code",
   "execution_count": 242,
   "id": "25688265",
   "metadata": {},
   "outputs": [
    {
     "name": "stdout",
     "output_type": "stream",
     "text": [
      "136\n"
     ]
    }
   ],
   "source": [
    "# How to find the closest value (to a given scalar) in an array?\n",
    "Z = np.arange(200)\n",
    "v = np.random.uniform(0,200)\n",
    "index = (np.abs(Z-v)).argmin()\n",
    "print(Z[index])"
   ]
  },
  {
   "cell_type": "code",
   "execution_count": 243,
   "id": "37f43479",
   "metadata": {},
   "outputs": [
    {
     "name": "stdout",
     "output_type": "stream",
     "text": [
      "30\n"
     ]
    }
   ],
   "source": [
    "Z = np.arange(200)\n",
    "v = np.random.uniform(7,200)\n",
    "index = (np.abs(Z-v)).argmin()\n",
    "print(Z[index])"
   ]
  },
  {
   "cell_type": "code",
   "execution_count": 244,
   "id": "3e4dd12d",
   "metadata": {},
   "outputs": [
    {
     "name": "stdout",
     "output_type": "stream",
     "text": [
      "29\n"
     ]
    }
   ],
   "source": [
    "Z = np.arange(100)\n",
    "v = np.random.uniform(0,100)\n",
    "index = (np.abs(Z-v)).argmin()\n",
    "print(Z[index])"
   ]
  },
  {
   "cell_type": "code",
   "execution_count": 245,
   "id": "aafd7d8f",
   "metadata": {},
   "outputs": [
    {
     "name": "stdout",
     "output_type": "stream",
     "text": [
      "[((0., 0.), (0., 0., 0.)) ((0., 0.), (0., 0., 0.))\n",
      " ((0., 0.), (0., 0., 0.)) ((0., 0.), (0., 0., 0.))\n",
      " ((0., 0.), (0., 0., 0.)) ((0., 0.), (0., 0., 0.))\n",
      " ((0., 0.), (0., 0., 0.)) ((0., 0.), (0., 0., 0.))\n",
      " ((0., 0.), (0., 0., 0.)) ((0., 0.), (0., 0., 0.))\n",
      " ((0., 0.), (0., 0., 0.)) ((0., 0.), (0., 0., 0.))\n",
      " ((0., 0.), (0., 0., 0.)) ((0., 0.), (0., 0., 0.))\n",
      " ((0., 0.), (0., 0., 0.))]\n"
     ]
    },
    {
     "name": "stderr",
     "output_type": "stream",
     "text": [
      "C:\\Users\\Rakib\\AppData\\Local\\Temp/ipykernel_5632/329857141.py:2: FutureWarning: Passing (type, 1) or '1type' as a synonym of type is deprecated; in a future version of numpy, it will be understood as (type, (1,)) / '(1,)type'.\n",
      "  Z = np.zeros(15, [('Position',[('x',float,1),\n"
     ]
    }
   ],
   "source": [
    "#. Create a structured array representing a position (x,y) and a color (r,g,b) \n",
    "Z = np.zeros(15, [('Position',[('x',float,1),\n",
    "                               ('y',float,1)]),\n",
    "                 ('Color',    [('r',float,1),\n",
    "                               ('g',float,1),\n",
    "                               ('b',float,1)])])\n",
    "print(Z)"
   ]
  },
  {
   "cell_type": "code",
   "execution_count": 246,
   "id": "946f0f58",
   "metadata": {},
   "outputs": [
    {
     "name": "stdout",
     "output_type": "stream",
     "text": [
      "[((0., 0.), (0., 0., 0.)) ((0., 0.), (0., 0., 0.))\n",
      " ((0., 0.), (0., 0., 0.)) ((0., 0.), (0., 0., 0.))\n",
      " ((0., 0.), (0., 0., 0.)) ((0., 0.), (0., 0., 0.))\n",
      " ((0., 0.), (0., 0., 0.)) ((0., 0.), (0., 0., 0.))\n",
      " ((0., 0.), (0., 0., 0.)) ((0., 0.), (0., 0., 0.))]\n"
     ]
    },
    {
     "name": "stderr",
     "output_type": "stream",
     "text": [
      "C:\\Users\\Rakib\\AppData\\Local\\Temp/ipykernel_5632/1085554366.py:1: FutureWarning: Passing (type, 1) or '1type' as a synonym of type is deprecated; in a future version of numpy, it will be understood as (type, (1,)) / '(1,)type'.\n",
      "  Z = np.zeros(10, [('Position',[('x',float,1),\n"
     ]
    }
   ],
   "source": [
    "Z = np.zeros(10, [('Position',[('x',float,1),\n",
    "                               ('y',float,1)]),\n",
    "                 ('Color',    [('r',float,1),\n",
    "                               ('g',float,1),\n",
    "                               ('b',float,1)])])\n",
    "print(Z)"
   ]
  },
  {
   "cell_type": "code",
   "execution_count": 247,
   "id": "2c3fb621",
   "metadata": {},
   "outputs": [
    {
     "name": "stdout",
     "output_type": "stream",
     "text": [
      "[[0.         0.72340762 0.10255435 0.72668328 0.86665641 0.70506056\n",
      "  0.87209899 0.20105902 0.49605209 0.15650946]\n",
      " [0.72340762 0.         0.82312259 0.25616169 0.358683   0.75598338\n",
      "  0.29779156 0.53789553 0.2419186  0.69578568]\n",
      " [0.10255435 0.82312259 0.         0.8287589  0.96794245 0.77564546\n",
      "  0.97439951 0.30336015 0.59805668 0.18994676]\n",
      " [0.72668328 0.25616169 0.8287589  0.         0.1486866  0.53142491\n",
      "  0.14721885 0.52566388 0.26476957 0.7539715 ]\n",
      " [0.86665641 0.358683   0.96794245 0.1486866  0.         0.55763473\n",
      "  0.08019377 0.66643607 0.41338665 0.90089827]\n",
      " [0.70506056 0.75598338 0.77564546 0.53142491 0.55763473 0.\n",
      "  0.62536438 0.57909684 0.59313093 0.82732149]\n",
      " [0.87209899 0.29779156 0.97439951 0.14721885 0.08019377 0.62536438\n",
      "  0.         0.67105869 0.39583353 0.89234515]\n",
      " [0.20105902 0.53789553 0.30336015 0.52566388 0.66643607 0.57909684\n",
      "  0.67105869 0.         0.30166662 0.26126825]\n",
      " [0.49605209 0.2419186  0.59805668 0.26476957 0.41338665 0.59313093\n",
      "  0.39583353 0.30166662 0.         0.49781039]\n",
      " [0.15650946 0.69578568 0.18994676 0.7539715  0.90089827 0.82732149\n",
      "  0.89234515 0.26126825 0.49781039 0.        ]]\n"
     ]
    }
   ],
   "source": [
    "#Consider a random vector with shape (100,2) representing coordinates, find point\n",
    "#by point distances \n",
    "import scipy.spatial\n",
    "Z = np.random.random((10,2))\n",
    "#X,Y = np.atleast_2d(Z[:,0]), np.atleast_2d(Z[:1])\n",
    "#D = np.sqrt( (X-X.T)**2 + (Y-Y.T)**2)\n",
    "#print(D)\n",
    "\n",
    "#Z = np.random.random((10,2))\n",
    "D = scipy.spatial.distance.cdist(Z,Z)\n",
    "print(D)"
   ]
  },
  {
   "cell_type": "code",
   "execution_count": 248,
   "id": "24e1c2bb",
   "metadata": {},
   "outputs": [],
   "source": [
    "#How to convert a float (32 bits) array into an integer (32 bits) in place?\n",
    "Z =np.arange(20, dtype=np.int32)\n",
    "Z = Z.astype(np.float32, copy = False)"
   ]
  },
  {
   "cell_type": "code",
   "execution_count": 249,
   "id": "df472dd1",
   "metadata": {},
   "outputs": [
    {
     "data": {
      "text/plain": [
       "array([ 0.,  1.,  2.,  3.,  4.,  5.,  6.,  7.,  8.,  9., 10., 11., 12.,\n",
       "       13., 14., 15., 16., 17., 18., 19.], dtype=float32)"
      ]
     },
     "execution_count": 249,
     "metadata": {},
     "output_type": "execute_result"
    }
   ],
   "source": [
    "Z"
   ]
  },
  {
   "cell_type": "code",
   "execution_count": 250,
   "id": "a20de3dc",
   "metadata": {},
   "outputs": [],
   "source": [
    "Z =np.arange(30, dtype=np.float32)\n",
    "Z = Z.astype(np.int32, copy = False)"
   ]
  },
  {
   "cell_type": "code",
   "execution_count": 251,
   "id": "a1df3071",
   "metadata": {},
   "outputs": [
    {
     "data": {
      "text/plain": [
       "array([ 0,  1,  2,  3,  4,  5,  6,  7,  8,  9, 10, 11, 12, 13, 14, 15, 16,\n",
       "       17, 18, 19, 20, 21, 22, 23, 24, 25, 26, 27, 28, 29])"
      ]
     },
     "execution_count": 251,
     "metadata": {},
     "output_type": "execute_result"
    }
   ],
   "source": [
    "Z"
   ]
  },
  {
   "cell_type": "code",
   "execution_count": 252,
   "id": "4bc6deb8",
   "metadata": {},
   "outputs": [],
   "source": [
    "Z =np.arange(20, dtype=np.int32)\n",
    "Z = Z.astype(np.float32, copy = True)"
   ]
  },
  {
   "cell_type": "code",
   "execution_count": 253,
   "id": "d7d8bb5c",
   "metadata": {},
   "outputs": [
    {
     "data": {
      "text/plain": [
       "array([ 0.,  1.,  2.,  3.,  4.,  5.,  6.,  7.,  8.,  9., 10., 11., 12.,\n",
       "       13., 14., 15., 16., 17., 18., 19.], dtype=float32)"
      ]
     },
     "execution_count": 253,
     "metadata": {},
     "output_type": "execute_result"
    }
   ],
   "source": [
    "Z"
   ]
  },
  {
   "cell_type": "code",
   "execution_count": 254,
   "id": "111fe661",
   "metadata": {},
   "outputs": [],
   "source": [
    "Z =np.arange(30, dtype=np.float32)\n",
    "Z = Z.astype(np.int32, copy = True)"
   ]
  },
  {
   "cell_type": "code",
   "execution_count": 255,
   "id": "d600fb47",
   "metadata": {},
   "outputs": [
    {
     "data": {
      "text/plain": [
       "array([ 0,  1,  2,  3,  4,  5,  6,  7,  8,  9, 10, 11, 12, 13, 14, 15, 16,\n",
       "       17, 18, 19, 20, 21, 22, 23, 24, 25, 26, 27, 28, 29])"
      ]
     },
     "execution_count": 255,
     "metadata": {},
     "output_type": "execute_result"
    }
   ],
   "source": [
    "Z"
   ]
  },
  {
   "cell_type": "code",
   "execution_count": 256,
   "id": "7228b9b9",
   "metadata": {},
   "outputs": [
    {
     "ename": "SyntaxError",
     "evalue": "invalid syntax (Temp/ipykernel_5632/903541521.py, line 4)",
     "output_type": "error",
     "traceback": [
      "\u001b[1;36m  File \u001b[1;32m\"C:\\Users\\Rakib\\AppData\\Local\\Temp/ipykernel_5632/903541521.py\"\u001b[1;36m, line \u001b[1;32m4\u001b[0m\n\u001b[1;33m    6,,7,8\u001b[0m\n\u001b[1;37m      ^\u001b[0m\n\u001b[1;31mSyntaxError\u001b[0m\u001b[1;31m:\u001b[0m invalid syntax\n"
     ]
    }
   ],
   "source": [
    "## How to read the following file?\n",
    "# -------------\n",
    "1,2,3,4,5\n",
    "6,,7,8\n",
    ",,9,10,11\n",
    "# -------------\n",
    "Z = np.genfromtxt(\"missing.dat\", delimiter=\",\")"
   ]
  },
  {
   "cell_type": "code",
   "execution_count": 257,
   "id": "4532c801",
   "metadata": {},
   "outputs": [
    {
     "name": "stdout",
     "output_type": "stream",
     "text": [
      "(0, 0) 0\n",
      "(0, 1) 1\n",
      "(0, 2) 2\n",
      "(0, 3) 3\n",
      "(1, 0) 4\n",
      "(1, 1) 5\n",
      "(1, 2) 6\n",
      "(1, 3) 7\n",
      "(2, 0) 8\n",
      "(2, 1) 9\n",
      "(2, 2) 10\n",
      "(2, 3) 11\n",
      "(3, 0) 12\n",
      "(3, 1) 13\n",
      "(3, 2) 14\n",
      "(3, 3) 15\n",
      "(0, 0) 0\n",
      "(0, 1) 1\n",
      "(0, 2) 2\n",
      "(0, 3) 3\n",
      "(1, 0) 4\n",
      "(1, 1) 5\n",
      "(1, 2) 6\n",
      "(1, 3) 7\n",
      "(2, 0) 8\n",
      "(2, 1) 9\n",
      "(2, 2) 10\n",
      "(2, 3) 11\n",
      "(3, 0) 12\n",
      "(3, 1) 13\n",
      "(3, 2) 14\n",
      "(3, 3) 15\n"
     ]
    }
   ],
   "source": [
    "#What is the equivalent of enumerate for numpy arrays?\n",
    "Z = np.arange(16).reshape(4,4)\n",
    "for index, value in np.ndenumerate(Z):\n",
    "    print(index,value)\n",
    "for index in np.ndindex(Z.shape):\n",
    "    print(index, Z[index])"
   ]
  },
  {
   "cell_type": "code",
   "execution_count": 258,
   "id": "09bc2e58",
   "metadata": {},
   "outputs": [
    {
     "name": "stdout",
     "output_type": "stream",
     "text": [
      "(0, 0) 1\n",
      "(0, 1) 2\n",
      "(1, 0) 3\n",
      "(1, 1) 4\n"
     ]
    }
   ],
   "source": [
    "#ndenumerate:\n",
    "#Multidimensional index iterator.\n",
    "#Return an iterator yielding pairs of array coordinates and values.\n",
    "a = np.array([[1, 2], [3, 4]])\n",
    "for index, x in np.ndenumerate(a):\n",
    "    print(index, x)"
   ]
  },
  {
   "cell_type": "code",
   "execution_count": 259,
   "id": "d02cf7b7",
   "metadata": {},
   "outputs": [
    {
     "name": "stdout",
     "output_type": "stream",
     "text": [
      "(0, 0, 0)\n",
      "(0, 1, 0)\n",
      "(1, 0, 0)\n",
      "(1, 1, 0)\n",
      "(2, 0, 0)\n",
      "(2, 1, 0)\n"
     ]
    }
   ],
   "source": [
    "#numpy.ndindex\n",
    "#class numpy.ndindex(*shape)[source]\n",
    "#An N-dimensional iterator object to index arrays.\n",
    "for index in np.ndindex(3, 2, 1):\n",
    "    print(index)"
   ]
  },
  {
   "cell_type": "code",
   "execution_count": 260,
   "id": "4ed82ec7",
   "metadata": {},
   "outputs": [
    {
     "name": "stdout",
     "output_type": "stream",
     "text": [
      "[[0.36787944 0.44822088 0.51979489 0.57375342 0.60279818 0.60279818\n",
      "  0.57375342 0.51979489 0.44822088 0.36787944]\n",
      " [0.44822088 0.54610814 0.63331324 0.69905581 0.73444367 0.73444367\n",
      "  0.69905581 0.63331324 0.54610814 0.44822088]\n",
      " [0.51979489 0.63331324 0.73444367 0.81068432 0.85172308 0.85172308\n",
      "  0.81068432 0.73444367 0.63331324 0.51979489]\n",
      " [0.57375342 0.69905581 0.81068432 0.89483932 0.9401382  0.9401382\n",
      "  0.89483932 0.81068432 0.69905581 0.57375342]\n",
      " [0.60279818 0.73444367 0.85172308 0.9401382  0.98773022 0.98773022\n",
      "  0.9401382  0.85172308 0.73444367 0.60279818]\n",
      " [0.60279818 0.73444367 0.85172308 0.9401382  0.98773022 0.98773022\n",
      "  0.9401382  0.85172308 0.73444367 0.60279818]\n",
      " [0.57375342 0.69905581 0.81068432 0.89483932 0.9401382  0.9401382\n",
      "  0.89483932 0.81068432 0.69905581 0.57375342]\n",
      " [0.51979489 0.63331324 0.73444367 0.81068432 0.85172308 0.85172308\n",
      "  0.81068432 0.73444367 0.63331324 0.51979489]\n",
      " [0.44822088 0.54610814 0.63331324 0.69905581 0.73444367 0.73444367\n",
      "  0.69905581 0.63331324 0.54610814 0.44822088]\n",
      " [0.36787944 0.44822088 0.51979489 0.57375342 0.60279818 0.60279818\n",
      "  0.57375342 0.51979489 0.44822088 0.36787944]]\n"
     ]
    }
   ],
   "source": [
    "#Generate a generic 2D Gaussian­like array\n",
    "X, Y = np.meshgrid(np.linspace(-1,1,10), np.linspace(-1,1,10))\n",
    "D = np.sqrt(X*X+Y*Y)\n",
    "sigma, mu = 1.0, 0.0\n",
    "G = np.exp(-( (D-mu)**2 / ( 2.0 * sigma**2 ) ) )\n",
    "print(G)"
   ]
  },
  {
   "cell_type": "code",
   "execution_count": 261,
   "id": "45e114fa",
   "metadata": {},
   "outputs": [],
   "source": [
    "#numpy.meshgrid\n",
    "#Return coordinate matrices from coordinate vectors.\n",
    "\n",
    "#Make N-D coordinate arrays for vectorized evaluations of N-D scalar/vector fields over N-D grids, given one-dimensional coordinate arrays x1, x2,…, xn."
   ]
  },
  {
   "cell_type": "code",
   "execution_count": 262,
   "id": "95d06f73",
   "metadata": {},
   "outputs": [
    {
     "data": {
      "text/plain": [
       "array([[0. , 0.5, 1. ],\n",
       "       [0. , 0.5, 1. ]])"
      ]
     },
     "execution_count": 262,
     "metadata": {},
     "output_type": "execute_result"
    }
   ],
   "source": [
    "nx, ny = (3, 2)\n",
    "x = np.linspace(0, 1, nx)\n",
    "y = np.linspace(0, 1, ny)\n",
    "xv, yv = np.meshgrid(x, y)\n",
    "xv"
   ]
  },
  {
   "cell_type": "code",
   "execution_count": 263,
   "id": "4bccf83d",
   "metadata": {},
   "outputs": [
    {
     "data": {
      "text/plain": [
       "array([3.        , 3.22222222, 3.44444444, 3.66666667, 3.88888889,\n",
       "       4.11111111, 4.33333333, 4.55555556, 4.77777778, 5.        ])"
      ]
     },
     "execution_count": 263,
     "metadata": {},
     "output_type": "execute_result"
    }
   ],
   "source": [
    "#numpy.linspace\n",
    "#Return evenly spaced numbers over a specified interval\n",
    "np.linspace(3.0, 5.0, num=10)"
   ]
  },
  {
   "cell_type": "code",
   "execution_count": 264,
   "id": "6d7489a0",
   "metadata": {},
   "outputs": [],
   "source": [
    "#How to randomly place p elements in a 2D array? \n",
    "n = 10\n",
    "p = 3\n",
    "Z = np.zeros((n,n))\n",
    "np.put(Z, np.random.choice(range(n*n), p, replace=False),1)"
   ]
  },
  {
   "cell_type": "code",
   "execution_count": 265,
   "id": "41694601",
   "metadata": {},
   "outputs": [
    {
     "data": {
      "text/plain": [
       "array([[0., 0., 0., 0., 0., 0., 0., 0., 0., 0.],\n",
       "       [0., 0., 0., 0., 0., 0., 0., 0., 0., 0.],\n",
       "       [0., 0., 0., 0., 0., 0., 0., 0., 0., 0.],\n",
       "       [0., 0., 0., 0., 0., 0., 0., 0., 0., 0.],\n",
       "       [1., 0., 0., 0., 0., 0., 0., 0., 0., 1.],\n",
       "       [0., 0., 0., 0., 0., 0., 0., 0., 0., 0.],\n",
       "       [0., 0., 0., 0., 0., 0., 0., 0., 0., 0.],\n",
       "       [0., 0., 0., 0., 0., 0., 0., 0., 0., 0.],\n",
       "       [0., 0., 0., 0., 0., 0., 0., 0., 0., 0.],\n",
       "       [0., 0., 0., 0., 0., 0., 1., 0., 0., 0.]])"
      ]
     },
     "execution_count": 265,
     "metadata": {},
     "output_type": "execute_result"
    }
   ],
   "source": [
    "Z"
   ]
  },
  {
   "cell_type": "code",
   "execution_count": 266,
   "id": "606edb3e",
   "metadata": {},
   "outputs": [],
   "source": [
    "#Subtract the mean of each row of a matrix \n",
    "X = np.random.rand(6,18)\n",
    "Y = X - X.mean(axis =1 , keepdims=True)##numpy new version"
   ]
  },
  {
   "cell_type": "code",
   "execution_count": 267,
   "id": "09523275",
   "metadata": {},
   "outputs": [
    {
     "data": {
      "text/plain": [
       "array([[ 0.18104612,  0.19245752,  0.04765247, -0.38437602,  0.15146975,\n",
       "        -0.23924205,  0.36236068,  0.13075874, -0.09040188, -0.22600651,\n",
       "        -0.29121782,  0.03510801,  0.12877467,  0.23648418,  0.08262973,\n",
       "        -0.18131424,  0.15284657, -0.28902992],\n",
       "       [-0.40439702, -0.36233472, -0.3544918 , -0.04047684, -0.45776567,\n",
       "        -0.35102748, -0.0586001 ,  0.31093809,  0.11074917,  0.30558316,\n",
       "        -0.17979254,  0.4092949 , -0.03662978,  0.05249915,  0.03643984,\n",
       "         0.30893882,  0.38390196,  0.32717086],\n",
       "       [-0.58274366,  0.25451679, -0.38997736,  0.36241875, -0.31713007,\n",
       "         0.23914402,  0.18386148,  0.15987607, -0.12295976,  0.33768106,\n",
       "         0.1483492 , -0.09208479, -0.36282507,  0.11603291, -0.2249016 ,\n",
       "         0.32868447,  0.2542965 , -0.29223896],\n",
       "       [ 0.34419414,  0.33522302, -0.18145135,  0.13218476,  0.20146676,\n",
       "         0.1312628 , -0.00937919,  0.03647384, -0.09815817, -0.39861129,\n",
       "        -0.33939524,  0.28796226,  0.24745311, -0.56475214,  0.34067584,\n",
       "        -0.26844007, -0.03336965, -0.16333943],\n",
       "       [ 0.20874019, -0.16945178, -0.40109812, -0.30796915,  0.30112245,\n",
       "         0.21924981,  0.23964854,  0.0074601 , -0.01175602,  0.28089959,\n",
       "         0.26558693,  0.35888244, -0.23532719,  0.08916314, -0.62113915,\n",
       "        -0.11774907, -0.25174273,  0.14548003],\n",
       "       [ 0.33286005, -0.15318298, -0.0310128 , -0.09972113,  0.26831294,\n",
       "         0.21623842,  0.07197146, -0.40936197,  0.5314858 ,  0.0168025 ,\n",
       "        -0.25334565, -0.44712954, -0.42271786, -0.11289278, -0.35042545,\n",
       "         0.04488838,  0.44080772,  0.35642289]])"
      ]
     },
     "execution_count": 267,
     "metadata": {},
     "output_type": "execute_result"
    }
   ],
   "source": [
    "Y"
   ]
  },
  {
   "cell_type": "code",
   "execution_count": 268,
   "id": "7906bad4",
   "metadata": {},
   "outputs": [],
   "source": [
    "#numpy older version:\n",
    "X = np.random.rand(6,18)\n",
    "Y = X - X.mean(axis =1).reshape(-1,1)## Numpy older version"
   ]
  },
  {
   "cell_type": "code",
   "execution_count": 269,
   "id": "2c754e92",
   "metadata": {},
   "outputs": [
    {
     "data": {
      "text/plain": [
       "array([[ 0.36111617,  0.1206474 , -0.28584437, -0.0697199 , -0.07498076,\n",
       "         0.31514167, -0.51547469,  0.23248985,  0.08586888,  0.27822483,\n",
       "        -0.10366229,  0.19775487,  0.19577972,  0.40492293, -0.47242471,\n",
       "        -0.25805087, -0.11279439, -0.29899435],\n",
       "       [-0.05078664,  0.29014368, -0.26800598,  0.24566379, -0.32673166,\n",
       "         0.40213131, -0.42430297,  0.02284597,  0.49218726,  0.52401496,\n",
       "         0.1352427 , -0.22335133, -0.42182473,  0.18914175,  0.05758579,\n",
       "        -0.43896929, -0.3616895 ,  0.15670487],\n",
       "       [-0.35887014,  0.08503673,  0.20526155, -0.11329824,  0.30514014,\n",
       "        -0.34304464,  0.18832145, -0.25943006, -0.22561118,  0.13665636,\n",
       "         0.19425811, -0.40709171,  0.12699866,  0.09305249,  0.08014333,\n",
       "         0.15432376,  0.49604608, -0.35789271],\n",
       "       [ 0.09452128,  0.29090831,  0.30826768, -0.11255317,  0.19153321,\n",
       "        -0.5323362 ,  0.12927455, -0.50383657,  0.03032855, -0.20030794,\n",
       "        -0.14916687,  0.25685875, -0.16892972,  0.292979  , -0.22210796,\n",
       "         0.15119557, -0.12067062,  0.26404215],\n",
       "       [-0.40236825,  0.19896173, -0.31844211,  0.18230872,  0.20174883,\n",
       "         0.4252176 ,  0.2783334 , -0.1120178 , -0.40314568,  0.09692879,\n",
       "        -0.37646371,  0.45431236, -0.14658858, -0.28527736, -0.00534732,\n",
       "         0.1563317 ,  0.43574681, -0.38023913],\n",
       "       [ 0.09190836,  0.3079725 ,  0.34761312, -0.03075472, -0.21986575,\n",
       "        -0.41537874, -0.44247681,  0.38949883,  0.30062835, -0.38838723,\n",
       "        -0.07823114,  0.27915087,  0.30344231,  0.28494733, -0.36161882,\n",
       "        -0.10822273, -0.41017909,  0.14995336]])"
      ]
     },
     "execution_count": 269,
     "metadata": {},
     "output_type": "execute_result"
    }
   ],
   "source": [
    "Y"
   ]
  },
  {
   "cell_type": "code",
   "execution_count": 270,
   "id": "d684ae37",
   "metadata": {},
   "outputs": [
    {
     "name": "stdout",
     "output_type": "stream",
     "text": [
      "[[ 6 14  4 12]\n",
      " [ 8  3  7  2]\n",
      " [ 4  5  7  4]\n",
      " [ 9  2 13  8]]\n",
      "[[ 9  2 13  8]\n",
      " [ 8  3  7  2]\n",
      " [ 4  5  7  4]\n",
      " [ 6 14  4 12]]\n"
     ]
    }
   ],
   "source": [
    "#How to I sort an array by the nth column?\n",
    "Z = np.random.randint(0,15,(4,4))\n",
    "print(Z)\n",
    "print(Z[Z[:,1].argsort()])"
   ]
  },
  {
   "cell_type": "code",
   "execution_count": 271,
   "id": "74ca3752",
   "metadata": {},
   "outputs": [
    {
     "data": {
      "text/plain": [
       "array([1, 2, 0], dtype=int64)"
      ]
     },
     "execution_count": 271,
     "metadata": {},
     "output_type": "execute_result"
    }
   ],
   "source": [
    "#argsort:\n",
    "#Returns the indices that would sort an array\n",
    "# one dimensional:\n",
    "x = np.array([3, 1, 2])\n",
    "np.argsort(x)"
   ]
  },
  {
   "cell_type": "code",
   "execution_count": 272,
   "id": "719f1e88",
   "metadata": {},
   "outputs": [
    {
     "data": {
      "text/plain": [
       "array([1, 2, 0], dtype=int64)"
      ]
     },
     "execution_count": 272,
     "metadata": {},
     "output_type": "execute_result"
    }
   ],
   "source": [
    "# Two dimensional:\n",
    "ind = np.argsort(x, axis=0)  # sorts along first axis (down)\n",
    "ind"
   ]
  },
  {
   "cell_type": "code",
   "execution_count": 273,
   "id": "dee72572",
   "metadata": {},
   "outputs": [
    {
     "data": {
      "text/plain": [
       "array([1, 2, 3])"
      ]
     },
     "execution_count": 273,
     "metadata": {},
     "output_type": "execute_result"
    }
   ],
   "source": [
    "np.take_along_axis(x, ind, axis=0)  # same as np.sort(x, axis=0)"
   ]
  },
  {
   "cell_type": "code",
   "execution_count": 274,
   "id": "4256afb4",
   "metadata": {},
   "outputs": [
    {
     "data": {
      "text/plain": [
       "(array([1, 2, 0], dtype=int64),)"
      ]
     },
     "execution_count": 274,
     "metadata": {},
     "output_type": "execute_result"
    }
   ],
   "source": [
    "#Indices of the sorted elements of a N-dimensional array:\n",
    "ind = np.unravel_index(np.argsort(x, axis=None), x.shape)\n",
    "ind"
   ]
  },
  {
   "cell_type": "code",
   "execution_count": 275,
   "id": "0b31bf76",
   "metadata": {},
   "outputs": [
    {
     "data": {
      "text/plain": [
       "array([1, 2, 3])"
      ]
     },
     "execution_count": 275,
     "metadata": {},
     "output_type": "execute_result"
    }
   ],
   "source": [
    "x[ind]  # same as np.sort(x, axis=None)"
   ]
  },
  {
   "cell_type": "code",
   "execution_count": 276,
   "id": "37a7ad32",
   "metadata": {},
   "outputs": [
    {
     "name": "stdout",
     "output_type": "stream",
     "text": [
      "False\n"
     ]
    }
   ],
   "source": [
    "#How to tell if a given 2D array has null columns?\n",
    "Z = np.random.randint(0,6,(6,15))\n",
    "print((~Z.any(axis=0)).any())"
   ]
  },
  {
   "cell_type": "code",
   "execution_count": 277,
   "id": "a6d768ed",
   "metadata": {},
   "outputs": [
    {
     "name": "stdout",
     "output_type": "stream",
     "text": [
      "0.26597705959665086\n"
     ]
    }
   ],
   "source": [
    "#Find the nearest value from a given value in an array:\n",
    "Z = np.random.uniform(0,2,15)\n",
    "z = 0.5\n",
    "m = Z.flat[np.abs(Z-z).argmin()]\n",
    "print(m)"
   ]
  },
  {
   "cell_type": "code",
   "execution_count": 278,
   "id": "92d5ac77",
   "metadata": {},
   "outputs": [],
   "source": [
    "#Create an array class that has a name attribute \n",
    "class NamedArray(np.ndarray):\n",
    "    def __new__(cls, array, name=\"no name\"):\n",
    "        obj = np.asarray(array).view(cls)\n",
    "        obj.name = name\n",
    "        return obj\n",
    "    def __array_finalize__(self, obj):\n",
    "        if obj is None: return\n",
    "        self.info = getattr(obj, 'name', \"no name\")\n",
    "    "
   ]
  },
  {
   "cell_type": "code",
   "execution_count": 279,
   "id": "ca2665a0",
   "metadata": {},
   "outputs": [
    {
     "name": "stdout",
     "output_type": "stream",
     "text": [
      "range_10\n"
     ]
    }
   ],
   "source": [
    "Z = NamedArray(np.arange(10), \"range_10\")\n",
    "print (Z.name)"
   ]
  },
  {
   "cell_type": "code",
   "execution_count": 280,
   "id": "5f79d994",
   "metadata": {},
   "outputs": [],
   "source": [
    "class NamedArray(np.ndarray):\n",
    "    def __new__(cls, array, name=\"Rakib\"):\n",
    "        obj = np.asarray(array).view(cls)\n",
    "        obj.name = name\n",
    "        return obj\n",
    "    def __array_finalize__(self, obj):\n",
    "        if obj is None: return\n",
    "        self.info = getattr(obj, 'name', \"Rakib\")\n",
    "    "
   ]
  },
  {
   "cell_type": "code",
   "execution_count": 281,
   "id": "9ee72ecc",
   "metadata": {},
   "outputs": [
    {
     "name": "stdout",
     "output_type": "stream",
     "text": [
      "range_15\n"
     ]
    }
   ],
   "source": [
    "Z = NamedArray(np.arange(15), \"range_15\")\n",
    "print (Z.name)"
   ]
  },
  {
   "cell_type": "code",
   "execution_count": 282,
   "id": "c4971e92",
   "metadata": {},
   "outputs": [
    {
     "name": "stdout",
     "output_type": "stream",
     "text": [
      "[1. 6. 4. 2. 2. 2. 2. 3. 3. 2. 4. 6. 2. 2. 4. 3. 3. 1. 4. 4.]\n"
     ]
    }
   ],
   "source": [
    "#. Consider a given vector, how to add 1 to each element indexed by a second\n",
    "#vector (be careful with repeated indices)?\n",
    "Z = np.ones(20)\n",
    "I = np.random.randint(0,len(Z),40)\n",
    "Z+= np.bincount(I, minlength= len(Z))\n",
    "print(Z)"
   ]
  },
  {
   "cell_type": "code",
   "execution_count": 283,
   "id": "791ec50b",
   "metadata": {},
   "outputs": [
    {
     "name": "stdout",
     "output_type": "stream",
     "text": [
      "[ 0.  0.  7.  8.  2. 15.  0.  0.  0.  5. 15.]\n"
     ]
    }
   ],
   "source": [
    "# How to accumulate elements of a vector (X) to an array (F) based on an index list\n",
    "#(I)?\n",
    "X = [1,2,3,5,6,8,12,15]\n",
    "I = [2,4,5,9,2,3,5,10]\n",
    "F = np.bincount(I,X)\n",
    "print(F)"
   ]
  },
  {
   "cell_type": "code",
   "execution_count": 284,
   "id": "bbd3da9e",
   "metadata": {},
   "outputs": [
    {
     "name": "stdout",
     "output_type": "stream",
     "text": [
      "[0 1]\n"
     ]
    }
   ],
   "source": [
    "#Considering a (w,h,3) image of (dtype=ubyte), compute the number of unique\n",
    "#colors\n",
    "w,h = 16,16\n",
    "I = np.random.randint(0,2,(h,w,3)).astype(np.ubyte)\n",
    "F = I[...,0]*256*256 + I[...,1]*256 +I[...,2]\n",
    "n = len(np.unique(F))\n",
    "print(np.unique(I))"
   ]
  },
  {
   "cell_type": "code",
   "execution_count": 285,
   "id": "fc864cdf",
   "metadata": {},
   "outputs": [
    {
     "name": "stdout",
     "output_type": "stream",
     "text": [
      "[0 1]\n"
     ]
    }
   ],
   "source": [
    "w,h = 12,12\n",
    "I = np.random.randint(0,2,(h,w,3)).astype(np.ubyte)\n",
    "F = I[...,0]*144*144 + I[...,1]*144 +I[...,2]\n",
    "n = len(np.unique(F))\n",
    "print(np.unique(I))"
   ]
  },
  {
   "cell_type": "code",
   "execution_count": 286,
   "id": "2ff7080a",
   "metadata": {},
   "outputs": [
    {
     "name": "stdout",
     "output_type": "stream",
     "text": [
      "[[270 255 298 227 243 310 344 291]\n",
      " [256 315 278 270 262 308 251 234]\n",
      " [295 254 257 293 268 291 288 308]\n",
      " [274 292 321 214 296 274 271 343]\n",
      " [296 296 288 276 269 307 285 277]]\n"
     ]
    }
   ],
   "source": [
    "# Considering a four dimensions array, how to get sum over the last two axis at\n",
    "#once?\n",
    "A = np.random.randint(0,15,(5,8,5,8))\n",
    "sum = A.reshape(A.shape[:-2] + (-1,)).sum(axis=-1)\n",
    "print(sum)"
   ]
  },
  {
   "cell_type": "code",
   "execution_count": 287,
   "id": "a48cc525",
   "metadata": {},
   "outputs": [
    {
     "name": "stdout",
     "output_type": "stream",
     "text": [
      "[3.83639436 1.99764047 2.57226689 2.31024554 2.99464898 2.41681943\n",
      " 1.76925279 2.50811409 3.11781383 2.79427884 3.07479539 2.51142764\n",
      " 1.47470864 2.43874884 2.54959668]\n"
     ]
    }
   ],
   "source": [
    "# Considering a one­dimensional vector D, how to compute means of subsets of D\n",
    "#using a vector S of same size describing subset indices?\n",
    "D = np.random.uniform(0,5,150)\n",
    "S = np. random.randint(0,15,150)\n",
    "D_sums = np.bincount(S, weights=D)\n",
    "D_counts = np.bincount(S)\n",
    "D_means =  D_sums / D_counts\n",
    "print(D_means)\n"
   ]
  },
  {
   "cell_type": "code",
   "execution_count": 288,
   "id": "b352de76",
   "metadata": {},
   "outputs": [
    {
     "name": "stdout",
     "output_type": "stream",
     "text": [
      "[0.47158002 0.38251845 0.60245176 0.83786779 0.42073626 0.47531667\n",
      " 0.35870056 0.32549844 0.39233169 0.61782211 0.583925   0.59314224\n",
      " 0.49814873 0.30833612 0.37961293]\n"
     ]
    }
   ],
   "source": [
    "D = np.random.uniform(0,1,150)\n",
    "S = np. random.randint(0,15,150)\n",
    "D_sums = np.bincount(S, weights=D)\n",
    "D_counts = np.bincount(S)\n",
    "D_means =  D_sums / D_counts\n",
    "print(D_means)"
   ]
  },
  {
   "cell_type": "code",
   "execution_count": 289,
   "id": "033d94d2",
   "metadata": {},
   "outputs": [
    {
     "name": "stdout",
     "output_type": "stream",
     "text": [
      "[6.60212028 3.82518448 4.21716232 5.02720673 1.68294503 7.60506667\n",
      " 2.15220338 2.92948598 2.35399012 9.26733166 7.59102499 5.93142244\n",
      " 4.98148728 4.31670567 3.79612928]\n"
     ]
    }
   ],
   "source": [
    "print(D_sums)"
   ]
  },
  {
   "cell_type": "code",
   "execution_count": 290,
   "id": "8225116c",
   "metadata": {},
   "outputs": [
    {
     "name": "stdout",
     "output_type": "stream",
     "text": [
      "[6.60212028 3.82518448 4.21716232 5.02720673 1.68294503 7.60506667\n",
      " 2.15220338 2.92948598 2.35399012 9.26733166 7.59102499 5.93142244\n",
      " 4.98148728 4.31670567 3.79612928]\n"
     ]
    }
   ],
   "source": [
    "print(D_sums)"
   ]
  },
  {
   "cell_type": "code",
   "execution_count": 292,
   "id": "9a7e7bc2",
   "metadata": {},
   "outputs": [
    {
     "data": {
      "text/plain": [
       "array([[[ 90, 114, 152,  70,  62, 171, 128, 152],\n",
       "        [148, 114, 162,  74, 132, 168,  98, 120],\n",
       "        [176, 160, 120,  76, 134, 186,  42, 110],\n",
       "        [ 92,  98,  78, 136, 120, 126, 134, 118],\n",
       "        [138,  66, 122,  92, 108, 156, 114,  88]],\n",
       "\n",
       "       [[122,  92, 100, 140, 148, 159, 106, 128],\n",
       "        [102, 110,  90, 100, 116, 147, 110, 132],\n",
       "        [122, 126,  88,  60,  84, 135,  90,  70],\n",
       "        [102, 124, 112, 100, 140, 237, 128, 112],\n",
       "        [104,  76,  88, 122,  92, 246,  94, 102]],\n",
       "\n",
       "       [[132,  82,  92, 150,  92, 198, 132, 130],\n",
       "        [ 74, 140, 142,  66, 152, 129, 114, 148],\n",
       "        [130, 142, 102,  70,  86, 243,  98,  98],\n",
       "        [100, 114,  60,  86, 112, 135, 126, 156],\n",
       "        [ 82, 124, 102, 146, 114, 189, 126,  92]],\n",
       "\n",
       "       [[ 98, 104, 124, 116, 112, 108, 100, 138],\n",
       "        [144, 142, 192, 130,  98, 141, 126, 124],\n",
       "        [122, 114, 126,  96,  96, 180,  74,  72],\n",
       "        [114, 106,  82, 134, 134, 204, 108, 168],\n",
       "        [132,  78, 106, 106, 118, 189, 118,  70]],\n",
       "\n",
       "       [[114, 134, 146, 134, 116, 198,  74, 166],\n",
       "        [106,  82, 112, 104,  92,  93, 118, 122],\n",
       "        [ 90, 114,  82, 128, 154, 132, 154, 114],\n",
       "        [118,  88, 122, 124,  72, 237, 130, 142],\n",
       "        [ 70,  96,  98, 120, 156, 150, 112, 144]]])"
      ]
     },
     "execution_count": 292,
     "metadata": {},
     "output_type": "execute_result"
    }
   ],
   "source": [
    "# Fast version:\n",
    "np.sum(A * B.T , axis=1)"
   ]
  },
  {
   "cell_type": "code",
   "execution_count": 293,
   "id": "756d9433",
   "metadata": {},
   "outputs": [
    {
     "ename": "ValueError",
     "evalue": "operand has more dimensions than subscripts given in einstein sum, but no '...' ellipsis provided to broadcast the extra dimensions.",
     "output_type": "error",
     "traceback": [
      "\u001b[1;31m---------------------------------------------------------------------------\u001b[0m",
      "\u001b[1;31mValueError\u001b[0m                                Traceback (most recent call last)",
      "\u001b[1;32m~\\AppData\\Local\\Temp/ipykernel_5632/3409032742.py\u001b[0m in \u001b[0;36m<module>\u001b[1;34m\u001b[0m\n\u001b[0;32m      1\u001b[0m \u001b[1;31m# Faster version:\u001b[0m\u001b[1;33m\u001b[0m\u001b[1;33m\u001b[0m\u001b[0m\n\u001b[1;32m----> 2\u001b[1;33m \u001b[0mnp\u001b[0m\u001b[1;33m.\u001b[0m\u001b[0meinsum\u001b[0m\u001b[1;33m(\u001b[0m\u001b[1;34m\"ij,ji->i\"\u001b[0m\u001b[1;33m,\u001b[0m \u001b[0mA\u001b[0m\u001b[1;33m,\u001b[0m \u001b[0mB\u001b[0m\u001b[1;33m)\u001b[0m\u001b[1;33m\u001b[0m\u001b[1;33m\u001b[0m\u001b[0m\n\u001b[0m",
      "\u001b[1;32m<__array_function__ internals>\u001b[0m in \u001b[0;36meinsum\u001b[1;34m(*args, **kwargs)\u001b[0m\n",
      "\u001b[1;32mE:\\programs1\\python datamining1\\lib\\site-packages\\numpy\\core\\einsumfunc.py\u001b[0m in \u001b[0;36meinsum\u001b[1;34m(out, optimize, *operands, **kwargs)\u001b[0m\n\u001b[0;32m   1359\u001b[0m         \u001b[1;32mif\u001b[0m \u001b[0mspecified_out\u001b[0m\u001b[1;33m:\u001b[0m\u001b[1;33m\u001b[0m\u001b[1;33m\u001b[0m\u001b[0m\n\u001b[0;32m   1360\u001b[0m             \u001b[0mkwargs\u001b[0m\u001b[1;33m[\u001b[0m\u001b[1;34m'out'\u001b[0m\u001b[1;33m]\u001b[0m \u001b[1;33m=\u001b[0m \u001b[0mout\u001b[0m\u001b[1;33m\u001b[0m\u001b[1;33m\u001b[0m\u001b[0m\n\u001b[1;32m-> 1361\u001b[1;33m         \u001b[1;32mreturn\u001b[0m \u001b[0mc_einsum\u001b[0m\u001b[1;33m(\u001b[0m\u001b[1;33m*\u001b[0m\u001b[0moperands\u001b[0m\u001b[1;33m,\u001b[0m \u001b[1;33m**\u001b[0m\u001b[0mkwargs\u001b[0m\u001b[1;33m)\u001b[0m\u001b[1;33m\u001b[0m\u001b[1;33m\u001b[0m\u001b[0m\n\u001b[0m\u001b[0;32m   1362\u001b[0m \u001b[1;33m\u001b[0m\u001b[0m\n\u001b[0;32m   1363\u001b[0m     \u001b[1;31m# Check the kwargs to avoid a more cryptic error later, without having to\u001b[0m\u001b[1;33m\u001b[0m\u001b[1;33m\u001b[0m\u001b[0m\n",
      "\u001b[1;31mValueError\u001b[0m: operand has more dimensions than subscripts given in einstein sum, but no '...' ellipsis provided to broadcast the extra dimensions."
     ]
    }
   ],
   "source": [
    "# Faster version:\n",
    "np.einsum(\"ij,ji->i\", A, B)"
   ]
  },
  {
   "cell_type": "code",
   "execution_count": 294,
   "id": "d13e2298",
   "metadata": {},
   "outputs": [
    {
     "name": "stdout",
     "output_type": "stream",
     "text": [
      "[1. 0. 0. 0. 0. 2. 0. 0. 0. 0. 3. 0. 0. 0. 0. 4. 0. 0. 0. 0. 5. 0. 0. 0.\n",
      " 0. 6. 0. 0. 0. 0. 7. 0. 0. 0. 0. 8.]\n"
     ]
    }
   ],
   "source": [
    "#Consider the vector [1, 2, 3, 4, 5, 6, 7, 8] how to build a new vector with 4 consecutive\n",
    "#zeros interleaved between each value?\n",
    "Z = np.array([1, 2, 3, 4, 5, 6, 7, 8])\n",
    "nz = 4\n",
    "Z0 = np.zeros(len(Z) + (len(Z)-1) * (nz))\n",
    "Z0[::nz+1]= Z\n",
    "print(Z0)"
   ]
  },
  {
   "cell_type": "code",
   "execution_count": 295,
   "id": "ab91b5f0",
   "metadata": {},
   "outputs": [
    {
     "name": "stdout",
     "output_type": "stream",
     "text": [
      "[[[2. 2. 2. 2.]\n",
      "  [2. 2. 2. 2.]\n",
      "  [2. 2. 2. 2.]\n",
      "  [2. 2. 2. 2.]\n",
      "  [2. 2. 2. 2.]\n",
      "  [2. 2. 2. 2.]\n",
      "  [2. 2. 2. 2.]]\n",
      "\n",
      " [[2. 2. 2. 2.]\n",
      "  [2. 2. 2. 2.]\n",
      "  [2. 2. 2. 2.]\n",
      "  [2. 2. 2. 2.]\n",
      "  [2. 2. 2. 2.]\n",
      "  [2. 2. 2. 2.]\n",
      "  [2. 2. 2. 2.]]\n",
      "\n",
      " [[2. 2. 2. 2.]\n",
      "  [2. 2. 2. 2.]\n",
      "  [2. 2. 2. 2.]\n",
      "  [2. 2. 2. 2.]\n",
      "  [2. 2. 2. 2.]\n",
      "  [2. 2. 2. 2.]\n",
      "  [2. 2. 2. 2.]]\n",
      "\n",
      " [[2. 2. 2. 2.]\n",
      "  [2. 2. 2. 2.]\n",
      "  [2. 2. 2. 2.]\n",
      "  [2. 2. 2. 2.]\n",
      "  [2. 2. 2. 2.]\n",
      "  [2. 2. 2. 2.]\n",
      "  [2. 2. 2. 2.]]\n",
      "\n",
      " [[2. 2. 2. 2.]\n",
      "  [2. 2. 2. 2.]\n",
      "  [2. 2. 2. 2.]\n",
      "  [2. 2. 2. 2.]\n",
      "  [2. 2. 2. 2.]\n",
      "  [2. 2. 2. 2.]\n",
      "  [2. 2. 2. 2.]]\n",
      "\n",
      " [[2. 2. 2. 2.]\n",
      "  [2. 2. 2. 2.]\n",
      "  [2. 2. 2. 2.]\n",
      "  [2. 2. 2. 2.]\n",
      "  [2. 2. 2. 2.]\n",
      "  [2. 2. 2. 2.]\n",
      "  [2. 2. 2. 2.]]\n",
      "\n",
      " [[2. 2. 2. 2.]\n",
      "  [2. 2. 2. 2.]\n",
      "  [2. 2. 2. 2.]\n",
      "  [2. 2. 2. 2.]\n",
      "  [2. 2. 2. 2.]\n",
      "  [2. 2. 2. 2.]\n",
      "  [2. 2. 2. 2.]]]\n"
     ]
    }
   ],
   "source": [
    "#. Consider an array of dimension (7,7,4), how to mulitply it by an array with\n",
    "#dimensions (7,7)?\n",
    "R = np.ones((7,7,4))\n",
    "S = 2* np.ones((7,7))\n",
    "print(R * S [:,:,None])\n"
   ]
  },
  {
   "cell_type": "code",
   "execution_count": 296,
   "id": "a6e742b0",
   "metadata": {},
   "outputs": [
    {
     "name": "stdout",
     "output_type": "stream",
     "text": [
      "[[[1. 1. 1. 1.]\n",
      "  [1. 1. 1. 1.]\n",
      "  [1. 1. 1. 1.]\n",
      "  [1. 1. 1. 1.]\n",
      "  [1. 1. 1. 1.]\n",
      "  [1. 1. 1. 1.]\n",
      "  [1. 1. 1. 1.]]\n",
      "\n",
      " [[1. 1. 1. 1.]\n",
      "  [1. 1. 1. 1.]\n",
      "  [1. 1. 1. 1.]\n",
      "  [1. 1. 1. 1.]\n",
      "  [1. 1. 1. 1.]\n",
      "  [1. 1. 1. 1.]\n",
      "  [1. 1. 1. 1.]]\n",
      "\n",
      " [[1. 1. 1. 1.]\n",
      "  [1. 1. 1. 1.]\n",
      "  [1. 1. 1. 1.]\n",
      "  [1. 1. 1. 1.]\n",
      "  [1. 1. 1. 1.]\n",
      "  [1. 1. 1. 1.]\n",
      "  [1. 1. 1. 1.]]\n",
      "\n",
      " [[1. 1. 1. 1.]\n",
      "  [1. 1. 1. 1.]\n",
      "  [1. 1. 1. 1.]\n",
      "  [1. 1. 1. 1.]\n",
      "  [1. 1. 1. 1.]\n",
      "  [1. 1. 1. 1.]\n",
      "  [1. 1. 1. 1.]]\n",
      "\n",
      " [[1. 1. 1. 1.]\n",
      "  [1. 1. 1. 1.]\n",
      "  [1. 1. 1. 1.]\n",
      "  [1. 1. 1. 1.]\n",
      "  [1. 1. 1. 1.]\n",
      "  [1. 1. 1. 1.]\n",
      "  [1. 1. 1. 1.]]\n",
      "\n",
      " [[1. 1. 1. 1.]\n",
      "  [1. 1. 1. 1.]\n",
      "  [1. 1. 1. 1.]\n",
      "  [1. 1. 1. 1.]\n",
      "  [1. 1. 1. 1.]\n",
      "  [1. 1. 1. 1.]\n",
      "  [1. 1. 1. 1.]]\n",
      "\n",
      " [[1. 1. 1. 1.]\n",
      "  [1. 1. 1. 1.]\n",
      "  [1. 1. 1. 1.]\n",
      "  [1. 1. 1. 1.]\n",
      "  [1. 1. 1. 1.]\n",
      "  [1. 1. 1. 1.]\n",
      "  [1. 1. 1. 1.]]]\n"
     ]
    }
   ],
   "source": [
    "R = np.ones((7,7,4))\n",
    "S = 1* np.ones((7,7))\n",
    "print(R * S [:,:,None])\n"
   ]
  },
  {
   "cell_type": "code",
   "execution_count": 297,
   "id": "6cb8fba3",
   "metadata": {},
   "outputs": [
    {
     "name": "stdout",
     "output_type": "stream",
     "text": [
      "[[ 6  7  8  9 10 11]\n",
      " [ 0  1  2  3  4  5]\n",
      " [12 13 14 15 16 17]\n",
      " [18 19 20 21 22 23]\n",
      " [24 25 26 27 28 29]\n",
      " [30 31 32 33 34 35]]\n"
     ]
    }
   ],
   "source": [
    "#. How to swap two rows of an array?\n",
    "X = np.arange(36).reshape(6,6)\n",
    "X[[0,1]] = X[[1,0]]\n",
    "print(X)"
   ]
  },
  {
   "cell_type": "code",
   "execution_count": 298,
   "id": "7d56e5db",
   "metadata": {},
   "outputs": [
    {
     "name": "stdout",
     "output_type": "stream",
     "text": [
      "[( 0, 11) ( 0, 61) ( 2, 45) ( 2, 54) ( 2, 80) ( 2, 86) (11, 61) (12, 49)\n",
      " (12, 62) (14, 49) (14, 92) (16, 49) (16, 94) (21, 41) (21, 65) (32, 41)\n",
      " (32, 50) (40, 89) (40, 95) (41, 50) (41, 65) (45, 55) (45, 85) (45, 86)\n",
      " (49, 62) (49, 92) (49, 94) (54, 80) (55, 85) (89, 95)]\n"
     ]
    }
   ],
   "source": [
    "#Consider a set of 10 triplets describing 10 triangles (with shared vertices), find\n",
    "#the set of unique line segments composing all the triangles\n",
    "faces = np.random.randint(0,100,(10,3))\n",
    "F = np.roll(faces.repeat(2,axis=1),-1,axis=1)\n",
    "F = F.reshape(len(F)*3,2)\n",
    "F = np.sort(F,axis=1)\n",
    "G = F.view( dtype=[('p0',F.dtype),('p1',F.dtype)] )\n",
    "G = np.unique(G)\n",
    "print(G)\n"
   ]
  },
  {
   "cell_type": "code",
   "execution_count": 299,
   "id": "743a5c77",
   "metadata": {},
   "outputs": [
    {
     "name": "stdout",
     "output_type": "stream",
     "text": [
      "[1 2 2 3 4 5 5 7 7 8]\n"
     ]
    }
   ],
   "source": [
    "# Given an array C that is a bincount, how to produce an array A such that\n",
    "#np.bincount(A) == C?\n",
    "C = np.bincount([1,2,2,3,4,5,5,7,7,8])\n",
    "A = np.repeat(np.arange(len(C)), C)\n",
    "print(A)"
   ]
  },
  {
   "cell_type": "code",
   "execution_count": 300,
   "id": "54623447",
   "metadata": {},
   "outputs": [
    {
     "name": "stdout",
     "output_type": "stream",
     "text": [
      "[ 2.  3.  4.  5.  6.  7.  8.  9. 10. 11. 12. 13. 14. 15. 16. 17. 18. 19.\n",
      " 20. 21. 22. 23. 24. 25. 26. 27.]\n"
     ]
    }
   ],
   "source": [
    "#How to compute averages using a sliding window over an array?\n",
    "def moving_average(a, n=5) :\n",
    "    ret = np.cumsum(a, dtype=float)\n",
    "    ret[n:] = ret[n:] - ret[:-n]\n",
    "    return ret[n - 1:] / n\n",
    "Z = np.arange(30)\n",
    "print(moving_average(Z, n=5))"
   ]
  },
  {
   "cell_type": "code",
   "execution_count": 301,
   "id": "789cd7e0",
   "metadata": {},
   "outputs": [
    {
     "name": "stdout",
     "output_type": "stream",
     "text": [
      "[ 2.5  3.5  4.5  5.5  6.5  7.5  8.5  9.5 10.5 11.5 12.5 13.5 14.5 15.5\n",
      " 16.5 17.5 18.5 19.5 20.5 21.5 22.5 23.5 24.5 25.5 26.5 27.5 28.5 29.5\n",
      " 30.5 31.5 32.5 33.5 34.5 35.5 36.5]\n"
     ]
    }
   ],
   "source": [
    "def moving_average(a, n=6) :\n",
    "    ret = np.cumsum(a, dtype=int)\n",
    "    ret[n:] = ret[n:] - ret[:-n]\n",
    "    return ret[n - 1:] / n\n",
    "Z = np.arange(40)\n",
    "print(moving_average(Z, n=6))"
   ]
  },
  {
   "cell_type": "code",
   "execution_count": 302,
   "id": "e9e59277",
   "metadata": {},
   "outputs": [],
   "source": [
    "#Consider a one­dimensional array Z, build a two­dimensional array whose first\n",
    "#row is (Z[0],Z[1],Z[2]) and each subsequent row is shifted by 1 (last row should\n",
    "#be (Z[­3],Z[­2],Z[­1])\n",
    "from numpy.lib import stride_tricks\n",
    "def rolling(a, window):\n",
    "    shape = (a.size - window + 1, window)\n",
    "    strides = (a.itemsize, a.itemsize)\n",
    "    return stride_tricks.as_strided(a, shape=shape, strides=strides)\n"
   ]
  },
  {
   "cell_type": "code",
   "execution_count": 303,
   "id": "545d4e73",
   "metadata": {},
   "outputs": [
    {
     "name": "stdout",
     "output_type": "stream",
     "text": [
      "[[0 1 2]\n",
      " [1 2 3]\n",
      " [2 3 4]]\n"
     ]
    }
   ],
   "source": [
    "a = np.arange(10)\n",
    "a = a[::2]\n",
    "Z = rolling(a, 3)\n",
    "print(Z)"
   ]
  },
  {
   "cell_type": "code",
   "execution_count": 304,
   "id": "1d271f0e",
   "metadata": {},
   "outputs": [
    {
     "name": "stdout",
     "output_type": "stream",
     "text": [
      "[[0 1 2 3]\n",
      " [1 2 3 4]\n",
      " [2 3 4 5]\n",
      " [3 4 5 6]\n",
      " [4 5 6 7]\n",
      " [5 6 7 8]\n",
      " [6 7 8 9]]\n"
     ]
    }
   ],
   "source": [
    "a = np.arange(20)\n",
    "a = a[::2]\n",
    "Z = rolling(a, 4)\n",
    "print(Z)"
   ]
  },
  {
   "cell_type": "code",
   "execution_count": 305,
   "id": "13382199",
   "metadata": {},
   "outputs": [
    {
     "ename": "NameError",
     "evalue": "name 'arr' is not defined",
     "output_type": "error",
     "traceback": [
      "\u001b[1;31m---------------------------------------------------------------------------\u001b[0m",
      "\u001b[1;31mNameError\u001b[0m                                 Traceback (most recent call last)",
      "\u001b[1;32m~\\AppData\\Local\\Temp/ipykernel_5632/238779762.py\u001b[0m in \u001b[0;36m<module>\u001b[1;34m\u001b[0m\n\u001b[0;32m      2\u001b[0m \u001b[1;33m\u001b[0m\u001b[0m\n\u001b[0;32m      3\u001b[0m \u001b[0mZ\u001b[0m \u001b[1;33m=\u001b[0m \u001b[0mnp\u001b[0m\u001b[1;33m.\u001b[0m\u001b[0mrandom\u001b[0m\u001b[1;33m.\u001b[0m\u001b[0mrandint\u001b[0m\u001b[1;33m(\u001b[0m\u001b[1;36m0\u001b[0m\u001b[1;33m,\u001b[0m\u001b[1;36m2\u001b[0m\u001b[1;33m,\u001b[0m\u001b[1;36m100\u001b[0m\u001b[1;33m)\u001b[0m\u001b[1;33m\u001b[0m\u001b[1;33m\u001b[0m\u001b[0m\n\u001b[1;32m----> 4\u001b[1;33m \u001b[0mnp\u001b[0m\u001b[1;33m.\u001b[0m\u001b[0mlogical_not\u001b[0m\u001b[1;33m(\u001b[0m\u001b[0marr\u001b[0m\u001b[1;33m,\u001b[0m \u001b[0mout\u001b[0m\u001b[1;33m=\u001b[0m\u001b[0marr\u001b[0m\u001b[1;33m)\u001b[0m\u001b[1;33m\u001b[0m\u001b[1;33m\u001b[0m\u001b[0m\n\u001b[0m\u001b[0;32m      5\u001b[0m \u001b[1;33m\u001b[0m\u001b[0m\n\u001b[0;32m      6\u001b[0m \u001b[0mZ\u001b[0m \u001b[1;33m=\u001b[0m \u001b[0mnp\u001b[0m\u001b[1;33m.\u001b[0m\u001b[0mrandom\u001b[0m\u001b[1;33m.\u001b[0m\u001b[0muniform\u001b[0m\u001b[1;33m(\u001b[0m\u001b[1;33m-\u001b[0m\u001b[1;36m1.0\u001b[0m\u001b[1;33m,\u001b[0m\u001b[1;36m1.0\u001b[0m\u001b[1;33m,\u001b[0m\u001b[1;36m100\u001b[0m\u001b[1;33m)\u001b[0m\u001b[1;33m\u001b[0m\u001b[1;33m\u001b[0m\u001b[0m\n",
      "\u001b[1;31mNameError\u001b[0m: name 'arr' is not defined"
     ]
    }
   ],
   "source": [
    "#How to negate a boolean, or to change the sign of a float inplace?\n",
    "\n",
    "Z = np.random.randint(0,2,100)\n",
    "np.logical_not(arr, out=arr)\n",
    "\n",
    "Z = np.random.uniform(-1.0,1.0,100)\n",
    "np.negative(arr, out=arr)"
   ]
  },
  {
   "cell_type": "code",
   "execution_count": 306,
   "id": "e3329276",
   "metadata": {},
   "outputs": [
    {
     "name": "stdout",
     "output_type": "stream",
     "text": [
      "[False False  True False  True]\n"
     ]
    }
   ],
   "source": [
    "import numpy as np\n",
    "b = np.array([True, True, False, True, False])\n",
    "b = np.invert(b)\n",
    "print(b)"
   ]
  },
  {
   "cell_type": "code",
   "execution_count": 307,
   "id": "7fc63fe8",
   "metadata": {},
   "outputs": [
    {
     "name": "stdout",
     "output_type": "stream",
     "text": [
      "[2.2918959  8.66855545 3.87983296 3.32208837 4.24948759 1.17231477\n",
      " 0.11769545 1.80218336 2.19576242 8.27550865]\n"
     ]
    }
   ],
   "source": [
    "#Consider 2 sets of points P0,P1 describing lines (2d) and a point p, how to\n",
    "#compute distance from p to each line i (P0[i],P1[i])? \n",
    "def distance(P0, P1, p):\n",
    "    T = P1 - P0\n",
    "    L = (T**2).sum(axis=1)\n",
    "    U = -((P0[:,0]-p[...,0])*T[:,0] + (P0[:,1]-p[...,1])*T[:,1]) / L\n",
    "    U = U.reshape(len(U),1)\n",
    "    D = P0 + U*T - p\n",
    "    return np.sqrt((D**2).sum(axis=1))\n",
    "P0 = np.random.uniform(-10,10,(10,2))\n",
    "P1 = np.random.uniform(-10,10,(10,2))\n",
    "p = np.random.uniform(-10,10,( 1,2))\n",
    "print(distance(P0, P1, p))"
   ]
  },
  {
   "cell_type": "code",
   "execution_count": 308,
   "id": "f85b8afd",
   "metadata": {},
   "outputs": [
    {
     "name": "stdout",
     "output_type": "stream",
     "text": [
      "[[18.15689754  0.42729909  0.49495649 11.31113154  9.19535684 11.96652917\n",
      "   3.9497406  14.05209178 15.82844106 12.03469685]\n",
      " [ 0.02214736  4.29215845 17.10036363  8.8635597  10.19399716  7.48782905\n",
      "  16.2742463   0.41900569  1.81368797  6.95811197]\n",
      " [ 9.29372284  8.76309579 14.53892128  0.80980671  4.97516001  1.29677809\n",
      "   9.57434571  9.79197091  2.55588968  2.05518261]\n",
      " [ 3.9419512   4.96617889  5.76579013  1.54910439  0.12998736  1.76510483\n",
      "   7.14737945  0.22634095 13.23468313  1.94223534]\n",
      " [ 7.89544602  4.61310051 11.72912015  0.80557139  3.23145716  0.59821449\n",
      "   8.62243947  7.08291831  5.90678763  1.07161752]\n",
      " [ 9.72027856  5.85811806  0.78697876  4.76014977  6.06084947  4.37251448\n",
      "   0.89504747  4.69684204 17.36197086  4.07279093]\n",
      " [ 6.02510689  0.68850951  9.46633019  1.37026357  2.08334469  0.62924876\n",
      "   8.2674397   4.06550094  8.76853402  0.41983784]\n",
      " [ 2.73921885  3.80852707 14.70017973  5.87431466  7.35843642  4.59023962\n",
      "  13.2980285   2.49717566  3.8183992   4.12279703]\n",
      " [14.93834395  2.15502644  4.40006386  7.36519861  4.99557653  8.32605642\n",
      "   0.22779147 12.02079448 12.3031742   8.55122703]\n",
      " [10.6249472   3.49909168  8.74032642  2.41763034  0.07446073  3.62224525\n",
      "   5.27795362  8.93646282  8.54650574  3.98781392]]\n"
     ]
    }
   ],
   "source": [
    "#70. Consider 2 sets of points P0,P1 describing lines (2d) and a set of points P, how\n",
    "#to compute distance from each point j (P[j]) to each line i (P0[i],P1[i])?\n",
    "P0 = np.random.uniform(-10, 10, (10,2))\n",
    "P1 = np.random.uniform(-10,10,(10,2))\n",
    "p = np.random.uniform(-10, 10, (10,2))\n",
    "print (np.array([distance(P0,P1,p_i) for p_i in p]))"
   ]
  },
  {
   "cell_type": "code",
   "execution_count": 309,
   "id": "a9fb5573",
   "metadata": {},
   "outputs": [
    {
     "name": "stdout",
     "output_type": "stream",
     "text": [
      "[[3 4 6 6 3 3 3 9 0 5]\n",
      " [8 6 2 8 8 4 4 1 2 6]\n",
      " [5 4 9 7 0 1 3 8 3 6]\n",
      " [7 2 7 0 3 9 0 1 9 1]\n",
      " [0 0 2 8 3 7 7 1 1 8]\n",
      " [7 6 0 5 0 6 1 0 6 3]\n",
      " [4 0 3 9 9 2 8 2 5 0]\n",
      " [7 6 7 2 4 9 6 4 1 1]\n",
      " [2 7 2 9 7 1 9 1 0 5]\n",
      " [3 0 1 7 5 8 2 0 5 5]]\n",
      "[[0 0 0 0 0]\n",
      " [0 3 4 6 6]\n",
      " [0 8 6 2 8]\n",
      " [0 5 4 9 7]\n",
      " [0 7 2 7 0]]\n"
     ]
    },
    {
     "name": "stderr",
     "output_type": "stream",
     "text": [
      "C:\\Users\\Rakib\\AppData\\Local\\Temp/ipykernel_5632/4097660005.py:21: FutureWarning: Using a non-tuple sequence for multidimensional indexing is deprecated; use `arr[tuple(seq)]` instead of `arr[seq]`. In the future this will be interpreted as an array index, `arr[np.array(seq)]`, which will result either in an error or a different result.\n",
      "  R[r] = Z[z]\n"
     ]
    }
   ],
   "source": [
    "#Consider an arbitrary array, write a function that extract a subpart with a fixed\n",
    "#shape and centered on a given element (pad with a fillvalue when necessary)\n",
    "Z = np.random.randint(0,10,(10,10))\n",
    "shape = (5,5)\n",
    "fill = 0\n",
    "position = (1,1)\n",
    "R = np.ones(shape, dtype=Z.dtype)*fill\n",
    "P = np.array(list(position)).astype(int)\n",
    "Rs = np.array(list(R.shape)).astype(int)\n",
    "Zs = np.array(list(Z.shape)).astype(int)\n",
    "R_start = np.zeros((len(shape),)).astype(int)\n",
    "R_stop = np.array(list(shape)).astype(int)\n",
    "Z_start = (P-Rs//2)\n",
    "Z_stop = (P+Rs//2)+Rs%2\n",
    "R_start = (R_start - np.minimum(Z_start,0)).tolist()\n",
    "Z_start = (np.maximum(Z_start,0)).tolist()\n",
    "R_stop = np.maximum(R_start, (R_stop - np.maximum(Z_stop-Zs,0))).tolist()\n",
    "Z_stop = (np.minimum(Z_stop,Zs)).tolist()\n",
    "r = [slice(start,stop) for start,stop in zip(R_start,R_stop)]\n",
    "z = [slice(start,stop) for start,stop in zip(Z_start,Z_stop)]\n",
    "R[r] = Z[z]\n",
    "print(Z)\n",
    "print(R)"
   ]
  },
  {
   "cell_type": "code",
   "execution_count": 310,
   "id": "f1c92237",
   "metadata": {},
   "outputs": [
    {
     "name": "stdout",
     "output_type": "stream",
     "text": [
      "[[ 1  2  3  4]\n",
      " [ 2  3  4  5]\n",
      " [ 3  4  5  6]\n",
      " [ 4  5  6  7]\n",
      " [ 5  6  7  8]\n",
      " [ 6  7  8  9]\n",
      " [ 7  8  9 10]\n",
      " [ 8  9 10 11]\n",
      " [ 9 10 11 12]\n",
      " [10 11 12 13]\n",
      " [11 12 13 14]]\n"
     ]
    }
   ],
   "source": [
    "# Consider an array Z = [1,2,3,4,5,6,7,8,9,10,11,12,13,14], how to generate an\n",
    "#array R = [[1,2,3,4], [2,3,4,5], [3,4,5,6], ..., [11,12,13,14]]?\n",
    "#from numpy.lib import stride_tricks\n",
    "Z = np.arange(1,15,dtype=uint32)\n",
    "R = stride_tricks.as_strided(Z,(11,4),(4,4))\n",
    "print(R)"
   ]
  },
  {
   "cell_type": "code",
   "execution_count": 311,
   "id": "98686fed",
   "metadata": {},
   "outputs": [],
   "source": [
    "#Compute a matrix rank \n",
    "Z = np.random.uniform(0,1,(10,10))\n",
    "U, S, V = np.linalg.svd(Z) # Singular Value Decomposition\n",
    "rank = np.sum(S > 1e-10)"
   ]
  },
  {
   "cell_type": "code",
   "execution_count": 312,
   "id": "3294c6cf",
   "metadata": {},
   "outputs": [
    {
     "name": "stdout",
     "output_type": "stream",
     "text": [
      "10\n"
     ]
    }
   ],
   "source": [
    "print(rank)"
   ]
  },
  {
   "cell_type": "code",
   "execution_count": 313,
   "id": "493662f0",
   "metadata": {},
   "outputs": [
    {
     "name": "stdout",
     "output_type": "stream",
     "text": [
      "2\n"
     ]
    }
   ],
   "source": [
    "#How to find the most frequent value in an array?\n",
    "Z = np.random.randint(0,20,70)\n",
    "print(np.bincount(Z).argmax())\n"
   ]
  },
  {
   "cell_type": "code",
   "execution_count": 314,
   "id": "fe1cee8a",
   "metadata": {},
   "outputs": [],
   "source": [
    "# Extract all the contiguous 3x3 blocks from a random 10x10 matrix\n",
    "Z = np.random.randint(0,5,(10,10))\n",
    "n = 3\n",
    "i = 1 + (Z.shape[0]-3)\n",
    "j = 1 + (Z.shape[1]-3)\n",
    "C = stride_tricks.as_strided(Z, shape=(i, j, n, n), strides=Z.strides + Z.strides)"
   ]
  },
  {
   "cell_type": "code",
   "execution_count": 315,
   "id": "15ed3564",
   "metadata": {},
   "outputs": [
    {
     "name": "stdout",
     "output_type": "stream",
     "text": [
      "[[[[4 2 1]\n",
      "   [2 1 1]\n",
      "   [3 0 4]]\n",
      "\n",
      "  [[2 1 4]\n",
      "   [1 1 1]\n",
      "   [0 4 0]]\n",
      "\n",
      "  [[1 4 0]\n",
      "   [1 1 0]\n",
      "   [4 0 1]]\n",
      "\n",
      "  [[4 0 1]\n",
      "   [1 0 2]\n",
      "   [0 1 3]]\n",
      "\n",
      "  [[0 1 4]\n",
      "   [0 2 1]\n",
      "   [1 3 4]]\n",
      "\n",
      "  [[1 4 1]\n",
      "   [2 1 3]\n",
      "   [3 4 2]]\n",
      "\n",
      "  [[4 1 4]\n",
      "   [1 3 1]\n",
      "   [4 2 4]]\n",
      "\n",
      "  [[1 4 0]\n",
      "   [3 1 3]\n",
      "   [2 4 1]]]\n",
      "\n",
      "\n",
      " [[[2 1 1]\n",
      "   [3 0 4]\n",
      "   [4 4 4]]\n",
      "\n",
      "  [[1 1 1]\n",
      "   [0 4 0]\n",
      "   [4 4 1]]\n",
      "\n",
      "  [[1 1 0]\n",
      "   [4 0 1]\n",
      "   [4 1 1]]\n",
      "\n",
      "  [[1 0 2]\n",
      "   [0 1 3]\n",
      "   [1 1 2]]\n",
      "\n",
      "  [[0 2 1]\n",
      "   [1 3 4]\n",
      "   [1 2 3]]\n",
      "\n",
      "  [[2 1 3]\n",
      "   [3 4 2]\n",
      "   [2 3 2]]\n",
      "\n",
      "  [[1 3 1]\n",
      "   [4 2 4]\n",
      "   [3 2 0]]\n",
      "\n",
      "  [[3 1 3]\n",
      "   [2 4 1]\n",
      "   [2 0 3]]]\n",
      "\n",
      "\n",
      " [[[3 0 4]\n",
      "   [4 4 4]\n",
      "   [1 1 4]]\n",
      "\n",
      "  [[0 4 0]\n",
      "   [4 4 1]\n",
      "   [1 4 1]]\n",
      "\n",
      "  [[4 0 1]\n",
      "   [4 1 1]\n",
      "   [4 1 3]]\n",
      "\n",
      "  [[0 1 3]\n",
      "   [1 1 2]\n",
      "   [1 3 4]]\n",
      "\n",
      "  [[1 3 4]\n",
      "   [1 2 3]\n",
      "   [3 4 2]]\n",
      "\n",
      "  [[3 4 2]\n",
      "   [2 3 2]\n",
      "   [4 2 1]]\n",
      "\n",
      "  [[4 2 4]\n",
      "   [3 2 0]\n",
      "   [2 1 2]]\n",
      "\n",
      "  [[2 4 1]\n",
      "   [2 0 3]\n",
      "   [1 2 4]]]\n",
      "\n",
      "\n",
      " [[[4 4 4]\n",
      "   [1 1 4]\n",
      "   [4 1 2]]\n",
      "\n",
      "  [[4 4 1]\n",
      "   [1 4 1]\n",
      "   [1 2 4]]\n",
      "\n",
      "  [[4 1 1]\n",
      "   [4 1 3]\n",
      "   [2 4 1]]\n",
      "\n",
      "  [[1 1 2]\n",
      "   [1 3 4]\n",
      "   [4 1 4]]\n",
      "\n",
      "  [[1 2 3]\n",
      "   [3 4 2]\n",
      "   [1 4 3]]\n",
      "\n",
      "  [[2 3 2]\n",
      "   [4 2 1]\n",
      "   [4 3 0]]\n",
      "\n",
      "  [[3 2 0]\n",
      "   [2 1 2]\n",
      "   [3 0 3]]\n",
      "\n",
      "  [[2 0 3]\n",
      "   [1 2 4]\n",
      "   [0 3 2]]]\n",
      "\n",
      "\n",
      " [[[1 1 4]\n",
      "   [4 1 2]\n",
      "   [0 4 0]]\n",
      "\n",
      "  [[1 4 1]\n",
      "   [1 2 4]\n",
      "   [4 0 3]]\n",
      "\n",
      "  [[4 1 3]\n",
      "   [2 4 1]\n",
      "   [0 3 1]]\n",
      "\n",
      "  [[1 3 4]\n",
      "   [4 1 4]\n",
      "   [3 1 0]]\n",
      "\n",
      "  [[3 4 2]\n",
      "   [1 4 3]\n",
      "   [1 0 3]]\n",
      "\n",
      "  [[4 2 1]\n",
      "   [4 3 0]\n",
      "   [0 3 2]]\n",
      "\n",
      "  [[2 1 2]\n",
      "   [3 0 3]\n",
      "   [3 2 1]]\n",
      "\n",
      "  [[1 2 4]\n",
      "   [0 3 2]\n",
      "   [2 1 2]]]\n",
      "\n",
      "\n",
      " [[[4 1 2]\n",
      "   [0 4 0]\n",
      "   [4 0 2]]\n",
      "\n",
      "  [[1 2 4]\n",
      "   [4 0 3]\n",
      "   [0 2 2]]\n",
      "\n",
      "  [[2 4 1]\n",
      "   [0 3 1]\n",
      "   [2 2 2]]\n",
      "\n",
      "  [[4 1 4]\n",
      "   [3 1 0]\n",
      "   [2 2 1]]\n",
      "\n",
      "  [[1 4 3]\n",
      "   [1 0 3]\n",
      "   [2 1 4]]\n",
      "\n",
      "  [[4 3 0]\n",
      "   [0 3 2]\n",
      "   [1 4 1]]\n",
      "\n",
      "  [[3 0 3]\n",
      "   [3 2 1]\n",
      "   [4 1 4]]\n",
      "\n",
      "  [[0 3 2]\n",
      "   [2 1 2]\n",
      "   [1 4 4]]]\n",
      "\n",
      "\n",
      " [[[0 4 0]\n",
      "   [4 0 2]\n",
      "   [4 2 0]]\n",
      "\n",
      "  [[4 0 3]\n",
      "   [0 2 2]\n",
      "   [2 0 1]]\n",
      "\n",
      "  [[0 3 1]\n",
      "   [2 2 2]\n",
      "   [0 1 3]]\n",
      "\n",
      "  [[3 1 0]\n",
      "   [2 2 1]\n",
      "   [1 3 0]]\n",
      "\n",
      "  [[1 0 3]\n",
      "   [2 1 4]\n",
      "   [3 0 0]]\n",
      "\n",
      "  [[0 3 2]\n",
      "   [1 4 1]\n",
      "   [0 0 3]]\n",
      "\n",
      "  [[3 2 1]\n",
      "   [4 1 4]\n",
      "   [0 3 3]]\n",
      "\n",
      "  [[2 1 2]\n",
      "   [1 4 4]\n",
      "   [3 3 2]]]\n",
      "\n",
      "\n",
      " [[[4 0 2]\n",
      "   [4 2 0]\n",
      "   [2 1 2]]\n",
      "\n",
      "  [[0 2 2]\n",
      "   [2 0 1]\n",
      "   [1 2 4]]\n",
      "\n",
      "  [[2 2 2]\n",
      "   [0 1 3]\n",
      "   [2 4 2]]\n",
      "\n",
      "  [[2 2 1]\n",
      "   [1 3 0]\n",
      "   [4 2 2]]\n",
      "\n",
      "  [[2 1 4]\n",
      "   [3 0 0]\n",
      "   [2 2 2]]\n",
      "\n",
      "  [[1 4 1]\n",
      "   [0 0 3]\n",
      "   [2 2 3]]\n",
      "\n",
      "  [[4 1 4]\n",
      "   [0 3 3]\n",
      "   [2 3 3]]\n",
      "\n",
      "  [[1 4 4]\n",
      "   [3 3 2]\n",
      "   [3 3 1]]]]\n"
     ]
    }
   ],
   "source": [
    "print(C)"
   ]
  },
  {
   "cell_type": "code",
   "execution_count": 316,
   "id": "dc8f6714",
   "metadata": {},
   "outputs": [
    {
     "ename": "SyntaxError",
     "evalue": "invalid syntax (Temp/ipykernel_5632/1313352290.py, line 4)",
     "output_type": "error",
     "traceback": [
      "\u001b[1;36m  File \u001b[1;32m\"C:\\Users\\Rakib\\AppData\\Local\\Temp/ipykernel_5632/1313352290.py\"\u001b[1;36m, line \u001b[1;32m4\u001b[0m\n\u001b[1;33m    def __setitem__(self, (i,j), value):\u001b[0m\n\u001b[1;37m                          ^\u001b[0m\n\u001b[1;31mSyntaxError\u001b[0m\u001b[1;31m:\u001b[0m invalid syntax\n"
     ]
    }
   ],
   "source": [
    "# Create a 2D array subclass such that Z[i,j] == Z[j,i]\n",
    "import numpy as np\n",
    "class Symetric(np.ndarray):\n",
    "    def __setitem__(self, (i,j), value):\n",
    "        super(Symetric, self).__setitem__((i,j), value)\n",
    "        super(Symetric, self).__setitem__((j,i), value)\n",
    "def symetric(Z):\n",
    "    return np.asarray(Z + Z.T - np.diag(Z.diagonal())).view(Symetric)\n",
    "\n",
    "S = symetric(np.random.randint(0,10,(5,5)))\n",
    "S[2,3] = 42\n",
    "print(S)\n"
   ]
  },
  {
   "cell_type": "code",
   "execution_count": 317,
   "id": "44002287",
   "metadata": {},
   "outputs": [
    {
     "name": "stdout",
     "output_type": "stream",
     "text": [
      "[[50.]\n",
      " [50.]\n",
      " [50.]\n",
      " [50.]\n",
      " [50.]\n",
      " [50.]\n",
      " [50.]\n",
      " [50.]\n",
      " [50.]\n",
      " [50.]]\n"
     ]
    }
   ],
   "source": [
    "#Consider a set of p matrices wich shape (n,n) and a set of p vectors with shape\n",
    "#(n,1). How to compute the sum of of the p matrix products at once? (result has\n",
    "#shape (n,1))\n",
    "p, n = 5, 10\n",
    "M = np.ones((p,n,n))\n",
    "V = np.ones((p,n,1))\n",
    "S = np.tensordot(M, V, axes=[[0, 2], [0, 1]])\n",
    "print(S)\n",
    "# It works, because:\n",
    "# M is (p,n,n)\n",
    "# V is (p,n,1)\n",
    "# Thus, summing over the paired axes 0 and 0 (of M and V independently),\n",
    "# and 2 and 1, to remain with a (n,1) vector."
   ]
  },
  {
   "cell_type": "code",
   "execution_count": 320,
   "id": "43971c11",
   "metadata": {},
   "outputs": [
    {
     "name": "stdout",
     "output_type": "stream",
     "text": [
      "Original arrays:\n",
      "[[1. 1. 1. 1. 1. 1. 1. 1. 1. 1. 1. 1. 1. 1. 1. 1.]\n",
      " [1. 1. 1. 1. 1. 1. 1. 1. 1. 1. 1. 1. 1. 1. 1. 1.]\n",
      " [1. 1. 1. 1. 1. 1. 1. 1. 1. 1. 1. 1. 1. 1. 1. 1.]\n",
      " [1. 1. 1. 1. 1. 1. 1. 1. 1. 1. 1. 1. 1. 1. 1. 1.]\n",
      " [1. 1. 1. 1. 1. 1. 1. 1. 1. 1. 1. 1. 1. 1. 1. 1.]\n",
      " [1. 1. 1. 1. 1. 1. 1. 1. 1. 1. 1. 1. 1. 1. 1. 1.]\n",
      " [1. 1. 1. 1. 1. 1. 1. 1. 1. 1. 1. 1. 1. 1. 1. 1.]\n",
      " [1. 1. 1. 1. 1. 1. 1. 1. 1. 1. 1. 1. 1. 1. 1. 1.]\n",
      " [1. 1. 1. 1. 1. 1. 1. 1. 1. 1. 1. 1. 1. 1. 1. 1.]\n",
      " [1. 1. 1. 1. 1. 1. 1. 1. 1. 1. 1. 1. 1. 1. 1. 1.]\n",
      " [1. 1. 1. 1. 1. 1. 1. 1. 1. 1. 1. 1. 1. 1. 1. 1.]\n",
      " [1. 1. 1. 1. 1. 1. 1. 1. 1. 1. 1. 1. 1. 1. 1. 1.]\n",
      " [1. 1. 1. 1. 1. 1. 1. 1. 1. 1. 1. 1. 1. 1. 1. 1.]\n",
      " [1. 1. 1. 1. 1. 1. 1. 1. 1. 1. 1. 1. 1. 1. 1. 1.]\n",
      " [1. 1. 1. 1. 1. 1. 1. 1. 1. 1. 1. 1. 1. 1. 1. 1.]\n",
      " [1. 1. 1. 1. 1. 1. 1. 1. 1. 1. 1. 1. 1. 1. 1. 1.]]\n",
      "\n",
      "Block-sum (4x4) of the said array:\n",
      "[[16. 16. 16. 16.]\n",
      " [16. 16. 16. 16.]\n",
      " [16. 16. 16. 16.]\n",
      " [16. 16. 16. 16.]]\n"
     ]
    }
   ],
   "source": [
    "#Consider a 16x16 array, how to get the block­sum (block size is 4x4)? \n",
    "import numpy as np\n",
    "arra1 = np.ones((16,16))\n",
    "k = 4\n",
    "print(\"Original arrays:\")\n",
    "print(arra1)\n",
    "result = np.add.reduceat(np.add.reduceat(arra1, np.arange(0, arra1.shape[0], k), axis=0),\n",
    "                                      np.arange(0, arra1.shape[1], k), axis=1)\n",
    "print(\"\\nBlock-sum (4x4) of the said array:\")\n",
    "print(result)"
   ]
  },
  {
   "cell_type": "code",
   "execution_count": 321,
   "id": "9b192d64",
   "metadata": {},
   "outputs": [],
   "source": [
    "# How to implement the Game of Life using numpy arrays?\n",
    "def iterate(Z):\n",
    "    # Count neighbours\n",
    "    N = (Z[0:-2,0:-2] + Z[0:-2,1:-1] + Z[0:-2,2:] +\n",
    "        Z[1:-1,0:-2] + Z[1:-1,2:] +\n",
    "        Z[2: ,0:-2] + Z[2: ,1:-1] + Z[2: ,2:])\n",
    "    # Apply rules\n",
    "    birth = (N==3) & (Z[1:-1,1:-1]==0)\n",
    "    survive = ((N==2) | (N==3)) & (Z[1:-1,1:-1]==1)\n",
    "    Z[...] = 0\n",
    "    Z[1:-1,1:-1][birth | survive] = 1\n",
    "    return Z\n",
    "Z = np.random.randint(0,2,(50,50))\n",
    "for i in range(100): Z = iterate(Z)"
   ]
  },
  {
   "cell_type": "code",
   "execution_count": 322,
   "id": "21b72e77",
   "metadata": {},
   "outputs": [
    {
     "name": "stdout",
     "output_type": "stream",
     "text": [
      "[[0 0 0 ... 0 0 0]\n",
      " [0 0 0 ... 0 0 0]\n",
      " [0 0 0 ... 0 0 0]\n",
      " ...\n",
      " [0 0 0 ... 0 0 0]\n",
      " [0 0 0 ... 0 0 0]\n",
      " [0 0 0 ... 0 0 0]]\n"
     ]
    }
   ],
   "source": [
    "print(Z)"
   ]
  },
  {
   "cell_type": "code",
   "execution_count": 323,
   "id": "53cbb264",
   "metadata": {},
   "outputs": [
    {
     "name": "stdout",
     "output_type": "stream",
     "text": [
      "[9995 9996 9997 9998 9999]\n"
     ]
    }
   ],
   "source": [
    "#How to get the n largest values of an array \n",
    "Z = np.arange(10000)\n",
    "np.random.shuffle(Z)\n",
    "n = 5\n",
    "# Slow\n",
    "print (Z[np.argsort(Z)[-n:]])"
   ]
  },
  {
   "cell_type": "code",
   "execution_count": 324,
   "id": "af2c941a",
   "metadata": {},
   "outputs": [
    {
     "name": "stdout",
     "output_type": "stream",
     "text": [
      "[9999 9998 9997 9996 9995]\n"
     ]
    }
   ],
   "source": [
    "Z = np.arange(10000)\n",
    "np.random.shuffle(Z)\n",
    "n = 5\n",
    "# Fast\n",
    "print (Z[np.argpartition(-Z,n)[:n]])"
   ]
  },
  {
   "cell_type": "code",
   "execution_count": 326,
   "id": "c7fadb80",
   "metadata": {},
   "outputs": [
    {
     "name": "stdout",
     "output_type": "stream",
     "text": [
      "[[1 4 6]\n",
      " [1 4 7]\n",
      " [1 5 6]\n",
      " [1 5 7]\n",
      " [2 4 6]\n",
      " [2 4 7]\n",
      " [2 5 6]\n",
      " [2 5 7]\n",
      " [3 4 6]\n",
      " [3 4 7]\n",
      " [3 5 6]\n",
      " [3 5 7]]\n"
     ]
    }
   ],
   "source": [
    "#Given an arbitrary number of vectors, build the cartesian product (every\n",
    "#combinations of every item)\n",
    "def cartesian(arrays):\n",
    "    arrays = [np.asarray(a) for a in arrays]\n",
    "    shape = (len(x) for x in arrays)\n",
    "    ix = np.indices(shape, dtype=int)\n",
    "    ix = ix.reshape(len(arrays), -1).T\n",
    "    for n, arr in enumerate(arrays):\n",
    "        ix[:, n] = arrays[n][ix[:, n]]\n",
    "    return ix\n",
    "print (cartesian(([1, 2, 3], [4, 5], [6, 7])))"
   ]
  },
  {
   "cell_type": "code",
   "execution_count": 328,
   "id": "f79acb40",
   "metadata": {},
   "outputs": [],
   "source": [
    "#How to create a record array from a regular array? \n",
    "Z = np.array([(\"Hello\", 4.99, 13),\n",
    "            (\"World\", 30.45, 40)])\n",
    "R = np.core.records.fromarrays(Z.T,\n",
    "                               names='col1, col2, col3',\n",
    "                               formats = 'S8, f8, i8')"
   ]
  },
  {
   "cell_type": "code",
   "execution_count": 329,
   "id": "1864abe4",
   "metadata": {},
   "outputs": [
    {
     "name": "stdout",
     "output_type": "stream",
     "text": [
      "[(b'Hello',  4.99, 13) (b'World', 30.45, 40)]\n"
     ]
    }
   ],
   "source": [
    "print(R)"
   ]
  },
  {
   "cell_type": "code",
   "execution_count": 333,
   "id": "0116be63",
   "metadata": {},
   "outputs": [
    {
     "name": "stdout",
     "output_type": "stream",
     "text": [
      "[0 2 3 4 6 7]\n"
     ]
    }
   ],
   "source": [
    "# Consider two arrays A and B of shape (8,3) and (2,2). How to find rows of A that\n",
    "#contain elements of each row of B regardless of the order of the elements in B?\n",
    "A = np.random.randint(0,5,(8,3))\n",
    "B = np.random.randint(0,5,(2,2))\n",
    "C = (A[..., np.newaxis, np.newaxis] == B)\n",
    "rows = (C.sum(axis=(1,2,3)) >= B.shape[1]).nonzero()[0]\n",
    "print(rows)\n",
    "\n",
    "\n"
   ]
  },
  {
   "cell_type": "code",
   "execution_count": 334,
   "id": "32d7ce67",
   "metadata": {},
   "outputs": [
    {
     "name": "stdout",
     "output_type": "stream",
     "text": [
      "[[1 2 4]\n",
      " [0 0 2]\n",
      " [1 3 2]\n",
      " [2 2 4]\n",
      " [1 2 0]\n",
      " [4 1 1]\n",
      " [3 1 0]\n",
      " [1 3 2]\n",
      " [3 4 2]\n",
      " [1 1 1]]\n",
      "[[1 2 4]\n",
      " [0 0 2]\n",
      " [1 3 2]\n",
      " [2 2 4]\n",
      " [1 2 0]\n",
      " [4 1 1]\n",
      " [3 1 0]\n",
      " [1 3 2]\n",
      " [3 4 2]]\n"
     ]
    }
   ],
   "source": [
    "#Considering a 10x3 matrix, extract rows with unequal values (e.g. [2,2,3])\n",
    "Z = np.random.randint(0,5,(10,3))\n",
    "E = np.logical_and.reduce(Z[:,1:] == Z[:,:-1], axis=1)\n",
    "U = Z[~E]\n",
    "print(Z)\n",
    "print(U)"
   ]
  },
  {
   "cell_type": "code",
   "execution_count": 336,
   "id": "dde38d41",
   "metadata": {},
   "outputs": [
    {
     "name": "stdout",
     "output_type": "stream",
     "text": [
      "[[0 0 0 0 0 0 0 0]\n",
      " [0 0 0 0 0 0 0 1]\n",
      " [0 0 0 0 0 0 1 0]\n",
      " [0 0 0 0 0 0 1 1]\n",
      " [0 0 0 0 1 1 1 1]\n",
      " [0 0 0 1 0 0 0 0]\n",
      " [0 0 1 0 0 0 0 0]\n",
      " [0 1 0 0 0 0 0 0]\n",
      " [1 0 0 0 0 0 0 0]]\n",
      "[[0 0 0 0 0 0 0 0]\n",
      " [0 0 0 0 0 0 0 1]\n",
      " [0 0 0 0 0 0 1 0]\n",
      " [0 0 0 0 0 0 1 1]\n",
      " [0 0 0 0 1 1 1 1]\n",
      " [0 0 0 1 0 0 0 0]\n",
      " [0 0 1 0 0 0 0 0]\n",
      " [0 1 0 0 0 0 0 0]\n",
      " [1 0 0 0 0 0 0 0]]\n"
     ]
    }
   ],
   "source": [
    "#Convert a vector of ints into a matrix binary representation\n",
    "I = np.array([0, 1, 2, 3, 15, 16, 32, 64, 128])\n",
    "B = ((I.reshape(-1,1) & (2**np.arange(8))) != 0).astype(int)\n",
    "print(B[:,::-1])\n",
    "# Author: Daniel T. McDonald\n",
    "I = np.array([0, 1, 2, 3, 15, 16, 32, 64, 128], dtype=np.uint8)\n",
    "print(np.unpackbits(I[:, np.newaxis], axis=1))"
   ]
  },
  {
   "cell_type": "code",
   "execution_count": 337,
   "id": "7148e0f6",
   "metadata": {},
   "outputs": [
    {
     "name": "stdout",
     "output_type": "stream",
     "text": [
      "[[0 0 1]\n",
      " [0 1 1]\n",
      " [1 0 0]]\n"
     ]
    }
   ],
   "source": [
    "#Given a two dimensional array, how to extract unique rows?\n",
    "Z = np.random.randint(0,2,(6,3))\n",
    "T = np.ascontiguousarray(Z).view(np.dtype((np.void, Z.dtype.itemsize * Z.shape[1])))\n",
    "_, idx = np.unique(T, return_index=True)\n",
    "uZ = Z[idx]\n",
    "print(uZ)\n"
   ]
  },
  {
   "cell_type": "code",
   "execution_count": 340,
   "id": "1bcc69ea",
   "metadata": {},
   "outputs": [],
   "source": [
    "# Considering a path described by two vectors (X,Y), how to sample it using\n",
    "#equidistant samples\n",
    "phi = np.arange(0, 10*np.pi, 0.1)\n",
    "a = 1\n",
    "x = a*phi*np.cos(phi)\n",
    "y = a*phi*np.sin(phi)\n",
    "dr = (np.diff(x)**2 + np.diff(y)**2)**.5 # segment lengths\n",
    "r = np.zeros_like(x)\n",
    "r[1:] = np.cumsum(dr) # integrate path\n",
    "r_int = np.linspace(0, r.max(), 200) # regular spaced path\n",
    "x_int = np.interp(r_int, r, x) # integrate path\n",
    "y_int = np.interp(r_int, r, y)\n"
   ]
  },
  {
   "cell_type": "code",
   "execution_count": 341,
   "id": "3fcb36d7",
   "metadata": {},
   "outputs": [
    {
     "name": "stdout",
     "output_type": "stream",
     "text": [
      "[  0.           0.09950042   0.19601332   0.28660095   0.3684244\n",
      "   0.43879128   0.49520137   0.53538953   0.55736537   0.55944897\n",
      "   0.54030231   0.49895573   0.43482931   0.34774848   0.237954\n",
      "   0.1061058   -0.04671924  -0.21903564  -0.40896377  -0.61425018\n",
      "  -0.83229367  -1.06017682  -1.29470246  -1.53243485  -1.76974492\n",
      "  -2.00285904  -2.22791076  -2.44099478  -2.63822255  -2.81577868\n",
      "  -2.96997749  -3.09731897  -3.19454328  -3.25868324  -3.28711385\n",
      "  -3.27759841  -3.2283303   -3.13797012  -3.00567731  -2.83113599\n",
      "  -2.61457448  -2.35677818  -2.05909545  -1.72343644  -1.35226463\n",
      "  -0.9485811   -0.51590162  -0.05822672   0.41999512   0.91391061\n",
      "   1.41831093   1.92768649   2.43628669   2.93818398   3.42734153\n",
      "   3.89768376   4.34316892   4.75786287   5.1360132    5.47212274\n",
      "   5.76102172   5.99793747   6.178561     6.29910941   6.35638348\n",
      "   6.34781957   6.27153511   6.12636709   5.91190293   5.62850319\n",
      "   5.27731578   4.86028133   4.38012946   3.84036588   3.24525022\n",
      "   2.59976488   1.9095748    1.18097874   0.42085228  -0.36341679\n",
      "  -1.16400027  -1.97270765  -2.78106986  -3.58042781  -4.36202469\n",
      "  -5.11710117  -5.83699241  -6.51322582  -7.13761852  -7.70237336\n",
      "  -8.20017236  -8.62426658  -8.96856132  -9.22769553  -9.3971146\n",
      "  -9.47313548  -9.45300342  -9.33493933  -9.11817747  -8.80299241\n",
      "  -8.39071529  -7.88373862  -7.28550965  -6.6005121   -5.83423628\n",
      "  -4.99313774  -4.08458482  -3.11679531  -2.09876299  -1.04017448\n",
      "   0.04868268   1.1570199    2.27365447   3.38712238   4.48579588\n",
      "   5.55800473   6.59215971   7.57687716   8.50110325   9.35423652\n",
      "  10.1262475   10.80779395  11.39033046  11.8662112   12.22878455\n",
      "  12.47247849  12.59287578  12.58677787  12.45225684  12.18869449\n",
      "  11.79680816  11.27866268  10.63766824   9.878564     9.00738732\n",
      "   8.03142895   6.9591743    5.80023126   4.56524532   3.26580248\n",
      "   1.91432105   0.52393323  -0.89164247  -2.31823644  -3.74136993\n",
      "  -5.14640187  -6.51867941  -7.84369048  -9.10721675 -10.29548549\n",
      " -11.39531869 -12.39427773 -13.28080214 -14.04434094 -14.67547492\n",
      " -15.16602867 -15.50917095 -15.69950221 -15.73312822 -15.60771894\n",
      " -15.32255169 -14.87853808 -14.27823434 -13.52583451 -12.62714655\n",
      " -11.58955145 -10.42194539  -9.13466558  -7.73940027  -6.24908366\n",
      "  -4.67777675  -3.04053512  -1.35326495   0.36743138   2.10441864\n",
      "   3.84019936   5.55709009   7.23740149   8.86362041  10.41859212\n",
      "  11.88570075  13.24904611  14.49361496  15.6054449   16.57177917\n",
      "  17.38121053  18.02381279  18.49125831  18.7769203   18.87595858\n",
      "  18.78538775  18.50412697  18.03303066  17.3748994   16.53447108\n",
      "  15.51839191  14.33516747  12.99509423  11.51017187   9.89399732\n",
      "   8.16164124   6.32950824   4.41518203   2.43725688   0.4151572\n",
      "  -1.63105313  -3.6808699   -5.713554    -7.70834118  -9.64465412\n",
      " -11.50231446 -13.26175272 -14.9042139  -16.41195663 -17.76844373\n",
      " -18.95852214 -19.96859034 -20.78675129 -21.40294938 -21.80908968\n",
      " -21.99913818 -21.96920183 -21.71758737 -21.24483813 -20.55374833\n",
      " -19.6493544  -18.53890336 -17.23179826 -15.73952118 -14.07553421\n",
      " -12.25515947 -10.29543901  -8.21497601  -6.03375864  -3.77296837\n",
      "  -1.45477441   0.89788356   3.2615224    5.6123499    7.92650424\n",
      "  10.18029618  12.35045135  14.41435043  16.35026444  18.13758293\n",
      "  19.7570326   21.19088398  22.42314406  23.43973275  24.2286412\n",
      "  24.7800703   25.08654775  25.14302233  24.94693422  24.49826054\n",
      "  23.79953536  22.85584389  21.67479057  20.26644137  18.64324051\n",
      "  16.81990238  14.81327959  12.64220817  10.32733155   7.89090473\n",
      "   5.35658069   2.74918094   0.09445254  -2.58118617  -5.25090838\n",
      "  -7.88774784 -10.46487118 -12.95585091 -15.33493623 -17.57731893\n",
      " -19.65939164 -21.55899571 -23.25565617 -24.7308012  -25.96796395\n",
      " -26.95296426 -27.67406854 -28.12212595 -28.2906792  -28.17604893\n",
      " -27.77739036 -27.09672162 -26.13892326 -24.91170863 -23.42556536\n",
      " -21.69366836 -19.73176483 -17.55803252 -15.19291234 -12.6589169\n",
      "  -9.98041672  -7.18340625  -4.29525175  -1.34442375   1.63978364\n",
      "   4.6275435    7.58879418  10.49354182  13.31216405  16.01571198\n",
      "  18.57620727  20.96693136  23.16270375  25.14014653  26.87793233\n",
      "  28.35701309  29.56082725  30.47548299  31.08991568  31.39601771]\n"
     ]
    }
   ],
   "source": [
    "print(x)"
   ]
  },
  {
   "cell_type": "code",
   "execution_count": 342,
   "id": "c36dc411",
   "metadata": {},
   "outputs": [
    {
     "name": "stdout",
     "output_type": "stream",
     "text": [
      "[ 0.00000000e+00  9.98334166e-03  3.97338662e-02  8.86560620e-02\n",
      "  1.55767337e-01  2.39712769e-01  3.38785484e-01  4.50952381e-01\n",
      "  5.73884873e-01  7.04994219e-01  8.41470985e-01  9.80328096e-01\n",
      "  1.11844690e+00  1.25262564e+00  1.37962962e+00  1.49624248e+00\n",
      "  1.59931776e+00  1.68583018e+00  1.75292574e+00  1.79797017e+00\n",
      "  1.81859485e+00  1.81273967e+00  1.77869209e+00  1.71512199e+00\n",
      "  1.62111163e+00  1.49618036e+00  1.34030357e+00  1.15392568e+00\n",
      "  9.37966820e-01  6.93823055e-01  4.23360024e-01  1.28900054e-01\n",
      " -1.86797259e-01 -5.20560791e-01 -8.68839747e-01 -1.22774130e+00\n",
      " -1.59307360e+00 -1.96039372e+00 -2.32505999e+00 -2.68228802e+00\n",
      " -3.02720998e+00 -3.35493616e+00 -3.66061824e+00 -3.93951353e+00\n",
      " -4.18704913e+00 -4.39888553e+00 -4.57097862e+00 -4.69963931e+00\n",
      " -4.78159012e+00 -4.81401780e+00 -4.79462137e+00 -4.72165488e+00\n",
      " -4.59396421e+00 -4.41101744e+00 -4.17292823e+00 -3.88047179e+00\n",
      " -3.53509317e+00 -3.13890759e+00 -2.69469264e+00 -2.20587232e+00\n",
      " -1.67649299e+00 -1.11119128e+00 -5.15154297e-01  1.05927573e-01\n",
      "  7.45914911e-01  1.39827992e+00  2.05617300e+00  2.71249447e+00\n",
      "  3.35997079e+00  3.99123437e+00  4.59890619e+00  5.17568018e+00\n",
      "  5.71440862e+00  6.20818733e+00  6.65043991e+00  7.03499983e+00\n",
      "  7.35618951e+00  7.60889540e+00  7.78863809e+00  7.89163660e+00\n",
      "  7.91486597e+00  7.85610747e+00  7.71399056e+00  7.48802622e+00\n",
      "  7.17863083e+00  6.78714046e+00  6.31581504e+00  5.76783230e+00\n",
      "  5.14727130e+00  4.45908562e+00  3.70906637e+00  2.90379510e+00\n",
      "  2.05058721e+00  1.15742614e+00  2.32888999e-01 -7.13935644e-01\n",
      " -1.67353710e+00 -2.63607808e+00 -3.59149547e+00 -4.52960535e+00\n",
      " -5.44021111e+00 -6.31321355e+00 -7.13872181e+00 -7.90716384e+00\n",
      " -8.60939528e+00 -9.23680548e+00 -9.78141947e+00 -1.02359947e+01\n",
      " -1.05941113e+01 -1.08502552e+01 -1.09998923e+01 -1.10395337e+01\n",
      " -1.09667906e+01 -1.07804175e+01 -1.04803452e+01 -1.00677000e+01\n",
      " -9.54481170e+00 -8.91520793e+00 -8.18359600e+00 -7.35583164e+00\n",
      " -6.43887502e+00 -5.44073432e+00 -4.37039724e+00 -3.23775103e+00\n",
      " -2.05349178e+00 -8.29023717e-01  4.23650395e-01  1.69204693e+00\n",
      "  2.96332576e+00  4.22442026e+00  5.46217148e+00  6.66346518e+00\n",
      "  7.81537039e+00  8.90527784e+00  9.92103693e+00  1.08510898e+01\n",
      "  1.16846007e+01  1.24115800e+01  1.30230002e+01  1.35109043e+01\n",
      "  1.38685030e+01  1.40902624e+01  1.41719785e+01  1.41108391e+01\n",
      "  1.39054720e+01  1.35559783e+01  1.30639511e+01  1.24324784e+01\n",
      "  1.16661306e+01  1.07709321e+01  9.75431760e+00  8.62507273e+00\n",
      "  7.39326007e+00  6.07013077e+00  4.66802269e+00  3.20024597e+00\n",
      "  1.68095698e+00  1.25021985e-01 -1.45212823e+00 -3.03465144e+00\n",
      " -4.60645307e+00 -6.15134982e+00 -7.65323618e+00 -9.09625202e+00\n",
      " -1.04649496e+01 -1.17444581e+01 -1.29206445e+01 -1.39802677e+01\n",
      " -1.49111262e+01 -1.57021958e+01 -1.63437574e+01 -1.68275116e+01\n",
      " -1.71466811e+01 -1.72960977e+01 -1.72722732e+01 -1.70734551e+01\n",
      " -1.66996632e+01 -1.61527094e+01 -1.54361988e+01 -1.45555123e+01\n",
      " -1.35177704e+01 -1.23317792e+01 -1.10079574e+01 -9.55824719e+00\n",
      " -7.99600745e+00 -6.33589144e+00 -4.59371011e+00 -2.78628178e+00\n",
      " -9.31270049e-01  9.52988800e-01  2.84766698e+00  4.73363337e+00\n",
      "  6.59164663e+00  8.40255146e+00  1.01474758e+01  1.18080275e+01\n",
      "  1.33664870e+01  1.48059963e+01  1.61107400e+01  1.72661176e+01\n",
      "  1.82589050e+01  1.90774035e+01  1.97115745e+01  2.01531580e+01\n",
      "  2.03957752e+01  2.04350108e+01  2.02684779e+01  1.98958614e+01\n",
      "  1.93189409e+01  1.85415923e+01  1.75697684e+01  1.64114568e+01\n",
      "  1.50766179e+01  1.35771013e+01  1.19265421e+01  1.01402386e+01\n",
      "  8.23501062e+00  6.22904253e+00  4.14170953e+00  1.99339091e+00\n",
      " -1.94728804e-01 -2.40086876e+00 -4.60286854e+00 -6.77841078e+00\n",
      " -8.90524730e+00 -1.09614265e+01 -1.29255198e+01 -1.47768443e+01\n",
      " -1.64956804e+01 -1.80634807e+01 -1.94630693e+01 -2.06788282e+01\n",
      " -2.16968700e+01 -2.25051940e+01 -2.30938241e+01 -2.34549277e+01\n",
      " -2.35829134e+01 -2.34745068e+01 -2.31288030e+01 -2.25472954e+01\n",
      " -2.17338807e+01 -2.06948388e+01 -1.94387886e+01 -1.79766196e+01\n",
      " -1.63213996e+01 -1.44882595e+01 -1.24942561e+01 -1.03582146e+01\n",
      " -8.10055113e+00 -5.74307808e+00 -3.30879375e+00 -8.21658021e-01\n",
      "  1.69364343e+00  4.21194409e+00  6.70784844e+00  9.15598803e+00\n",
      "  1.15312792e+01  1.38091801e+01  1.59659436e+01  1.79788649e+01\n",
      "  1.98265197e+01  2.14889913e+01  2.29480843e+01  2.41875221e+01\n",
      "  2.51931265e+01  2.59529775e+01  2.64575510e+01  2.66998329e+01\n",
      "  2.66754096e+01  2.63825314e+01  2.58221501e+01  2.49979293e+01\n",
      "  2.39162273e+01  2.25860517e+01  2.10189881e+01  1.92291009e+01\n",
      "  1.72328089e+01  1.50487360e+01  1.26975380e+01  1.02017081e+01\n",
      "  7.58536207e+00  4.87400556e+00  2.09428557e+00 -7.26271386e-01\n",
      " -3.55953178e+00 -6.37703575e+00 -9.15028291e+00 -1.18510207e+01\n",
      " -1.44515319e+01 -1.69249191e+01 -1.92453826e+01 -2.13884889e+01\n",
      " -2.33314272e+01 -2.50532516e+01 -2.65351055e+01 -2.77604265e+01\n",
      " -2.87151297e+01 -2.93877664e+01 -2.97696578e+01 -2.98550014e+01\n",
      " -2.96409487e+01 -2.91276536e+01 -2.83182906e+01 -2.72190427e+01\n",
      " -2.58390590e+01 -2.41903808e+01 -2.22878395e+01 -2.01489244e+01\n",
      " -1.77936234e+01 -1.52442367e+01 -1.25251670e+01 -9.66268557e+00\n",
      " -6.68467926e+00 -3.62037882e+00 -5.00072086e-01]\n"
     ]
    }
   ],
   "source": [
    "print(y)"
   ]
  },
  {
   "cell_type": "code",
   "execution_count": 343,
   "id": "fb86da5c",
   "metadata": {},
   "outputs": [
    {
     "name": "stdout",
     "output_type": "stream",
     "text": [
      "[[2. 0. 1. 1.]]\n"
     ]
    }
   ],
   "source": [
    "#. Given an integer n and a 2D array X, select from X the rows which can be\n",
    "#interpreted as draws from a multinomial distribution with n degrees, i.e., the rows\n",
    "#which only contain integers and which sum to n.\n",
    "X = np.asarray([[1.0, 0.0, 3.0, 8.0],\n",
    "[2.0, 0.0, 1.0, 1.0],\n",
    "[1.5, 2.5, 1.0, 0.0]])\n",
    "n = 4\n",
    "M = np.logical_and.reduce(np.mod(X, 1) == 0, axis=-1)\n",
    "M &= (X.sum(axis=-1) == n)\n",
    "print(X[M])"
   ]
  }
 ],
 "metadata": {
  "kernelspec": {
   "display_name": "Python 3 (ipykernel)",
   "language": "python",
   "name": "python3"
  },
  "language_info": {
   "codemirror_mode": {
    "name": "ipython",
    "version": 3
   },
   "file_extension": ".py",
   "mimetype": "text/x-python",
   "name": "python",
   "nbconvert_exporter": "python",
   "pygments_lexer": "ipython3",
   "version": "3.9.7"
  }
 },
 "nbformat": 4,
 "nbformat_minor": 5
}
